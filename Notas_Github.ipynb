{
 "cells": [
  {
   "cell_type": "markdown",
   "id": "82f04e1b",
   "metadata": {},
   "source": [
    "<center><h1>INTRODUCCIÓN A GITHUB</h1></center>\n",
    "\n",
    "Estas notas estan basadas en el curso de Github del canal **MoureDev by Brais Moure.**\n",
    "\n",
    "El repositorio es el siguiente: https://github.com/mouredev/hello-git\n",
    "\n",
    "**Nota:** Esta es una página que guarda y resume todos los comandos principales que podriamos utilizar: https://training.github.com/downloads/es_ES/github-git-cheat-sheet.pdf"
   ]
  },
  {
   "cell_type": "markdown",
   "id": "e513ebad",
   "metadata": {},
   "source": [
    "##  Secciones\n",
    "1. **Introducción a GitHub**\n",
    "2. **Primeros pasos en GitHub**\n",
    "3. **Repositorio Personal**\n",
    "4. **Local y Remoto**\n",
    "5. **Autenticación ssh en GitHub**\n",
    "6. **Repositorio proyecto y Git Remote**\n",
    "7. **Subir un proyecto -- Git push**"
   ]
  },
  {
   "cell_type": "markdown",
   "id": "b6363fcd",
   "metadata": {},
   "source": [
    "# 1. Introducción a GitHub\n",
    "\n",
    "GitHub es una plataforma de desarrollo colaborativo basada en Git que permite a los desarrolladores alojar, revisar y gestionar proyectos de software de forma distribuida. Proporciona herramientas para control de versiones, seguimiento de problemas, integración continua y más. GitHub facilita la colaboración entre equipos de desarrollo, permitiendo a los usuarios clonar repositorios, enviar solicitudes de extracción, realizar seguimiento de problemas y gestionar proyectos de manera eficiente.\n",
    "\n",
    "En cuanto a si Git y GitHub son lo mismo, no lo son. Git es un sistema de control de versiones distribuido de código abierto, mientras que GitHub es una plataforma en línea que se basa en Git para proporcionar servicios adicionales, como alojamiento de repositorios en la nube, seguimiento de problemas, solicitudes de extracción y colaboración en proyectos de software. "
   ]
  },
  {
   "cell_type": "markdown",
   "id": "078767c5",
   "metadata": {},
   "source": [
    "# 2. Primeros pasos en GitHub \n",
    "\n",
    "Lo primero que debemos hacer es crearnos una cuenta en github dando un correo y una contraseña. Una vez que realicemos eso, nos tendra que salir una pantalla principipal tal que asi: \n",
    "\n",
    "<p></p>\n",
    "<center><img src=\"imagenes/Imagen_GitHub.png\" alt=\"Texto alternativo\" style=\"width: 1000px;\"/></center>\n",
    "<p></p>\n",
    "\n",
    "Una de las mayores ventajas que tiene GitHub es que tiene una gran documentación, donde esta la podemos encontrar en el siguiente link: https://docs.github.com/es. Cualquier duda que tengamos con respecto a GitHub la podremos resolver con esta documentación. "
   ]
  },
  {
   "cell_type": "markdown",
   "id": "77c48916",
   "metadata": {},
   "source": [
    "# 3. Repositorio Personal\n",
    "\n",
    "Algo muy importante a tener en cuenta es que ademas de ser GitHub un lugar donde podemos guardar repositorios, también es lo mas cercano a una red social para programadores, por lo que es importante que modifiquemos nuestro perfil si lo que queremos es en algun momento darnos a conocer. \n",
    "\n",
    "<p></p>\n",
    "<center><img src=\"imagenes/home_page.png\" alt=\"Texto alternativo\" style=\"width: 1000px;\"/></center>\n",
    "<p></p>\n",
    "\n",
    "Ahora, una parte principales de GitHub es la creación de repositorios. Tenemos dos forma de poder crearlos, una es utilizando de manera local git y luego subirlo a GitHub, y la segunda es directamente crealo desde GitHub. Para hacerlo directamente en GitHub lo que hacemos en irnos a la parte de repositorios y posteriormente a crear, donde nos debe de aparecer lo siguiente: \n",
    "\n",
    "<p></p>\n",
    "<center><img src=\"imagenes/Crear_repositorio.png\" alt=\"Texto alternativo\" style=\"width: 1000px;\"/></center>\n",
    "<p></p>\n",
    "\n",
    "El primer respositorio que crearemos el que tenga nuestro nombre de usuario, y este es especial ya que lo que va a hacer es unirse a nuestro perfil. \n",
    "\n",
    "<p></p>\n",
    "<center><img src=\"imagenes/home_repository.png\" alt=\"Texto alternativo\" style=\"width: 1000px;\"/></center>\n",
    "<p></p>\n",
    "\n",
    "Algunos aspectos importantes son que podemos escoger si nuestro repositorio es pubiclo o privado, poder agregar un archivo readme el cual explica con palabras lo que hace el código de nuestro proyecto, y hasta poder agregar una licencia a nuestro código. Una vez creada nos va a aparecer lo siguiente: \n",
    "\n",
    "<p></p>\n",
    "<center><img src=\"imagenes/primer_repositorio.png\" alt=\"Texto alternativo\" style=\"width: 1000px;\"/></center>\n",
    "<p></p>\n",
    "\n",
    "Notemos que en especial, este repositorio se va a encontrar en nuestro perfil \n",
    "\n",
    "<p></p>\n",
    "<center><img src=\"imagenes/nueva_home_page.png\" alt=\"Texto alternativo\" style=\"width: 1000px;\"/></center>\n",
    "<p></p>"
   ]
  },
  {
   "cell_type": "markdown",
   "id": "e9208222",
   "metadata": {},
   "source": [
    "# 4. Local y Remoto\n",
    "\n",
    "La idea de tener un repositorio remoto es que nos da la ventaja de tener siempre comunicado tanto lo que realicemos de manera local con el servidor, y que si alguien mas quiere acceder a la información se comunique directamente con el mismo servidor (o yo mismo pero desde otro ordenador), en vez de estar pasando archivos de manera local.\n",
    "\n",
    "<p></p>\n",
    "<center><img src=\"imagenes/local-development-server.png\" alt=\"Texto alternativo\" style=\"width: 400px;\"/></center>\n",
    "<p></p>"
   ]
  },
  {
   "cell_type": "markdown",
   "id": "c0aafce9",
   "metadata": {},
   "source": [
    "# 5. Autenticación ssh en GitHub\n",
    "\n",
    "Ahora, algo muy importante a recordar es que nosotros al usar github estamos mandado información a un servidor, y si queremos tener todo seguro, este servido siempre que mandemos o pidamos algo nos va a pedir un usuario y contraseña. Una forma de poder automatizar esto es usando una autenticación **SSH**. \n",
    "\n",
    "La verdad es que para hacer esto se necesitan muchos pasos, por lo que solo voy a adjuntar el link del mismo GitHub donde explican de una manera muy detallada y muy clara como hacer esta autenticación. **Link:** https://docs.github.com/es/authentication\n",
    "\n",
    "Si por alguna razon no se entiende lo de GitHub, ver este video https://www.youtube.com/watch?app=desktop&v=3GymExBkKjE&t=11053s en el tiempo 2:53:00."
   ]
  },
  {
   "cell_type": "markdown",
   "id": "f65044fb",
   "metadata": {},
   "source": [
    "# 6. Repositorio Proyecto y Git Remote\n",
    "\n",
    "Una vez que ya hicimos todos los pasos anteriores, vamos a practicar subiendo este repositorio a Github. Para ello vamos a crear un repositorio en el mismo GitHub como ya lo hicimos en el capitulo 3. Nos deberia aparecer algo como lo siguiente: \n",
    "\n",
    "<p></p>\n",
    "<center><img src=\"imagenes/hello_git.png\" alt=\"Texto alternativo\" style=\"width: 1000px;\"/></center>\n",
    "<p></p>\n",
    "\n",
    "Una vez hecho esto, es momento de comunicar nuestra computadora con el repositorio de GitHub. Para hacer esto, utilizamos el comando **git remote add < name > < url_del_repositorio >**. Entonces"
   ]
  },
  {
   "cell_type": "code",
   "execution_count": 42,
   "id": "aaf5dfce",
   "metadata": {},
   "outputs": [
    {
     "name": "stdout",
     "output_type": "stream",
     "text": [
      "error: remoto origin ya existe.\r\n"
     ]
    }
   ],
   "source": [
    "# De manera estandar, siempre se toma como name=origin. Por otra parte. para ver el url del repositorio,\n",
    "# nosotros vamos al repositorio y en la parte donde dice code si le damos click nos mostrara la url \n",
    "# para varios casos. Para todo lo que nosotros hemos hecho, nos conviene agarrar la que es por ssh, \n",
    "# ya que es la que ya tenemos configurada. \n",
    "!git remote add origin git@github.com:SalvadorA04/Hello-Git.git"
   ]
  },
  {
   "cell_type": "markdown",
   "id": "261799ba",
   "metadata": {},
   "source": [
    "Muy bien, ya tenemos emparejado ahora nuestro repositorio local con su respectivo reposirotio en GitHub, por lo que ahora solo nos falta subir los archivos. "
   ]
  },
  {
   "cell_type": "markdown",
   "id": "91714177",
   "metadata": {},
   "source": [
    "# 6. Subir un proyecto -- Git push\n",
    "\n",
    "Para poder subir nuestro archivos al repositorio de GitHub, el comando que utilizamos es el de Git push. Primero veamos que pasa si lo usamos directamente"
   ]
  },
  {
   "cell_type": "code",
   "execution_count": 43,
   "id": "40eb1203",
   "metadata": {},
   "outputs": [
    {
     "name": "stdout",
     "output_type": "stream",
     "text": [
      "fatal: La rama actual main no tiene una rama upstream.\r\n",
      "Para empujar la rama actual y configurar el remoto como upstream, usa\r\n",
      "\r\n",
      "    git push --set-upstream origin main\r\n",
      "\r\n",
      "Para hacer que esto pase automáticamente para las ramas que no rastrean\r\n",
      "un upstream, mira 'push.autoSetupRemote' en 'git help config'.\r\n",
      "\r\n"
     ]
    }
   ],
   "source": [
    "!git push"
   ]
  },
  {
   "cell_type": "markdown",
   "id": "442acda6",
   "metadata": {},
   "source": [
    "Veamos que git nos dice que no hemos comunicado las ramas. Para poder hacer esto, utilizamos **git push < name > < rama_del_repositorio_local >**. Mas aun, si por ejemplo sabemos que que nuestra rama main siempre va a estar vinculada a la rama main del repositorio de Github, lo que podemos hacer es usar el  **git push -u origin main **, asi siempre que estemos en nuestro rama main y utilicemos el **git push**, git ya sabra que queremos mandarlo a la rama main del repositorio remoto. \n",
    "\n",
    "**Nota:** Si quisieramos vincular alguna de nuestras ramas con otra rama que no sea la main de nuestro repositorio remoto, utilizamos el comando **git push < name > < rama_del_repositorio_local >: < rama_del_repositorio_remoto >**"
   ]
  },
  {
   "cell_type": "code",
   "execution_count": 44,
   "id": "e6377778",
   "metadata": {},
   "outputs": [
    {
     "name": "stdout",
     "output_type": "stream",
     "text": [
      "Enumerando objetos: 60, listo.\n",
      "Contando objetos: 100% (60/60), listo.\n",
      "Compresión delta usando hasta 8 hilos\n",
      "Comprimiendo objetos: 100% (49/49), listo.\n",
      "Escribiendo objetos: 100% (60/60), 1.20 MiB | 23.65 MiB/s, listo.\n",
      "Total 60 (delta 15), reused 0 (delta 0), pack-reused 0 (from 0)\n",
      "remote: Resolving deltas: 100% (15/15), done.\u001b[K\n",
      "To github.com:SalvadorA04/Hello-Git.git\n",
      " * [new branch]      main -> main\n",
      "rama 'main' configurada para rastrear 'origin/main'.\n"
     ]
    }
   ],
   "source": [
    "# En nuestro caso. \n",
    "!git push -u origin main"
   ]
  },
  {
   "cell_type": "markdown",
   "id": "f11d8738",
   "metadata": {},
   "source": [
    "Si ahora nos vamos a nuestro repositorio remoto, veremos que todos nuestros archivos se han subidó\n",
    "\n",
    "<p></p>\n",
    "<center><img src=\"imagenes/Subida_archivos.png\" alt=\"Texto alternativo\" style=\"width: 1000px;\"/></center>\n",
    "<p></p>\n",
    "\n",
    "Estupendo, ya sabemos como vincular repositorios y subir archivos. Ahora, vamos al git y creemos el archivo README en el mismo GitHub. Para ello le hacemos click a **Add README**, \n",
    "\n",
    "<p></p>\n",
    "<center><img src=\"imagenes/Add_readme.png\" alt=\"Texto alternativo\" style=\"width: 1000px;\"/></center>\n",
    "<p></p>\n",
    "\n",
    "Posteriormente a esto le hacemos click a **Click Changer** y lo guardamos. Si volvemos a nuestro repositorio, lo que deberia pasar es que nos muestre el README. Muy bien, ya que parece que tenemos todo listo en teoria deberiamos podemor hacer nuestro flujo de trabajo habitual. Supongamos que ahora vamos a trabajar en un nuevo fichero con nombre Hello_Github.py. Entonces"
   ]
  },
  {
   "cell_type": "code",
   "execution_count": 45,
   "id": "e901eb7d",
   "metadata": {},
   "outputs": [],
   "source": [
    "# Creamos el fichero Hello_GitHub.py \n",
    "!touch Hello_GitHub.py "
   ]
  },
  {
   "cell_type": "code",
   "execution_count": 46,
   "id": "168b7240",
   "metadata": {},
   "outputs": [
    {
     "name": "stdout",
     "output_type": "stream",
     "text": [
      "Hola Mundo de GitHub\r\n"
     ]
    }
   ],
   "source": [
    "# En este escribimos print(\"Hola Mundo de GitHub\")\n",
    "!python Hello_GitHub.py"
   ]
  },
  {
   "cell_type": "markdown",
   "id": "28ce7507",
   "metadata": {},
   "source": [
    "Ya que terminamos nuestro fichero, vamos a hacer nuestro metodología habitual para subir nuestro fichero.  "
   ]
  },
  {
   "cell_type": "code",
   "execution_count": 47,
   "id": "aa15ceac",
   "metadata": {
    "scrolled": false
   },
   "outputs": [
    {
     "name": "stdout",
     "output_type": "stream",
     "text": [
      "En la rama main\n",
      "Tu rama está actualizada con 'origin/main'.\n",
      "\n",
      "Cambios no rastreados para el commit:\n",
      "  (usa \"git add <archivo>...\" para actualizar lo que será confirmado)\n",
      "  (usa \"git restore <archivo>...\" para descartar los cambios en el directorio de trabajo)\n",
      "\t\u001b[31mmodificados:     Imagenes/Hello_git.png\u001b[m\n",
      "\t\u001b[31mmodificados:     Notas_Github.ipynb\u001b[m\n",
      "\n",
      "Archivos sin seguimiento:\n",
      "  (usa \"git add <archivo>...\" para incluirlo a lo que será confirmado)\n",
      "\t\u001b[31mHello_GitHub.py\u001b[m\n",
      "\t\u001b[31mImagenes/Add_readme.png\u001b[m\n",
      "\t\u001b[31mImagenes/Subida_archivos.png\u001b[m\n",
      "\n",
      "sin cambios agregados al commit (usa \"git add\" y/o \"git commit -a\")\n",
      "----------------------------------------------------------------------\n",
      "----------------------------------------------------------------------\n",
      "[main dd2a9eb] Se actualizarón todos los archivos y se agregó el fichero Hello_GitHub.py\n",
      " 5 files changed, 80 insertions(+), 24 deletions(-)\n",
      " create mode 100644 Hello_GitHub.py\n",
      " create mode 100644 Imagenes/Add_readme.png\n",
      " create mode 100644 Imagenes/Subida_archivos.png\n",
      "----------------------------------------------------------------------\n",
      "To github.com:SalvadorA04/Hello-Git.git\n",
      " \u001b[31m! [rejected]       \u001b[m main -> main (fetch first)\n",
      "\u001b[31merror: falló el empuje de algunas referencias a 'github.com:SalvadorA04/Hello-Git.git'\n",
      "\u001b[m\u001b[33mayuda: Updates were rejected because the remote contains work that you do not\u001b[m\n",
      "\u001b[33mayuda: have locally. This is usually caused by another repository pushing to\u001b[m\n",
      "\u001b[33mayuda: the same ref. If you want to integrate the remote changes, use\u001b[m\n",
      "\u001b[33mayuda: 'git pull' before pushing again.\u001b[m\n",
      "\u001b[33mayuda: See the 'Note about fast-forwards' in 'git push --help' for details.\u001b[m\n"
     ]
    }
   ],
   "source": [
    "# Vamos a ver primero el status \n",
    "!git status \n",
    "\n",
    "!echo \"----------------------------------------------------------------------\"\n",
    "\n",
    "# Ya que hemos cambiado varios archivos, vamos a hacer un commit de todos\n",
    "!git add . \n",
    "\n",
    "!echo \"----------------------------------------------------------------------\"\n",
    "\n",
    "!git commit -m \"Se actualizarón todos los archivos y se agregó el fichero Hello_GitHub.py\"\n",
    "\n",
    "!echo \"----------------------------------------------------------------------\"\n",
    "\n",
    "# Por último, vamos a hacer un push de esto \n",
    "!git push "
   ]
  },
  {
   "cell_type": "markdown",
   "id": "221910b6",
   "metadata": {},
   "source": [
    "Notemos que aunque pareciera que todo lo que hicimos es correcto, al final Git no nos dejó hacer el push. Esto se debe a que en nuestro repositorio remoto hicimos modificaciones al crear el fichero README, entonces Git para no modificar cosas que despues nos podamos arrepentir, se niega a hacerlo. Pero ¿cómo solucionamos esto?. "
   ]
  },
  {
   "cell_type": "markdown",
   "id": "0fe4feb2",
   "metadata": {},
   "source": [
    "# 7. Git Fetch y Pull \n",
    "\n",
    "Un primer comando muy util para ver como solucionar el problema anterior es el git fetch. Este lo que hace es descargar la bitacora de los cambios en nuestro repositorio remoto para que asi podamos verlo. Entonces"
   ]
  },
  {
   "cell_type": "code",
   "execution_count": 56,
   "id": "7ae0aea6",
   "metadata": {
    "scrolled": true
   },
   "outputs": [
    {
     "name": "stdout",
     "output_type": "stream",
     "text": [
      "remote: Enumerating objects: 5, done.\u001b[K\n",
      "remote: Counting objects: 100% (5/5), done.\u001b[K\n",
      "remote: Compressing objects: 100% (3/3), done.\u001b[K\n",
      "remote: Total 3 (delta 1), reused 0 (delta 0), pack-reused 0\u001b[K\n",
      "Desempaquetando objetos: 100% (3/3), 966 bytes | 483.00 KiB/s, listo.\n",
      "Desde github.com:SalvadorA04/Hello-Git\n",
      "   1f33570..69efc0c  main       -> origin/main\n",
      "------------------------------------------------\n",
      "* \u001b[33m69efc0c\u001b[m\u001b[33m (\u001b[m\u001b[1;31morigin/main\u001b[m\u001b[33m)\u001b[m Update README.md\n",
      "* \u001b[33m1f33570\u001b[m Create README.md\n",
      "\u001b[31m|\u001b[m * \u001b[33mdd2a9eb\u001b[m\u001b[33m (\u001b[m\u001b[1;36mHEAD\u001b[m\u001b[33m -> \u001b[m\u001b[1;32mmain\u001b[m\u001b[33m)\u001b[m Se actualizarón todos los archivos y se agregó el fichero Hello_GitHub.py\n",
      "\u001b[31m|\u001b[m\u001b[31m/\u001b[m  \n",
      "* \u001b[33m6723857\u001b[m Se actualizaron todos los archivos\n",
      "* \u001b[33mcade01f\u001b[m Se actualizó el .gitignore agregador el fichero .DS_store\n",
      "* \u001b[33md816024\u001b[m Se agregaron los capitulos 4,5 y 6 de estas notas\n",
      "* \u001b[33m0607987\u001b[m Modficaciones\n",
      "* \u001b[33m52d008f\u001b[m Modificaciones en gitignore y en los nombres de los archivos\n",
      "* \u001b[33m60b99e2\u001b[m\u001b[33m (\u001b[m\u001b[1;33mtag: \u001b[m\u001b[1;33mversion_1_notas\u001b[m\u001b[33m)\u001b[m Notas hasta el capitulo 20 de Git\n",
      "* \u001b[33m75fe455\u001b[m última versión del archivo\n",
      "* \u001b[33m586ff27\u001b[m Agregamos la versión final de nuestra aportación\n",
      "* \u001b[33m72cc362\u001b[m Agregamos la versión final de nuestra aportación\n",
      "* \u001b[33m06a6700\u001b[m Agregamos la versión final de nuestra aportación\n",
      "* \u001b[33m13c9ba6\u001b[m Mi primer aporte a la colaboración\n",
      "* \u001b[33mfc4774a\u001b[m\u001b[33m (\u001b[m\u001b[1;33mtag: \u001b[m\u001b[1;33mgit_day_1\u001b[m\u001b[33m)\u001b[m se añadió el .gitignore\n",
      "* \u001b[33ma50e18f\u001b[m Se actualizó el texto del print\n",
      "* \u001b[33mb91bea0\u001b[m Este es mi segundo commit\n",
      "* \u001b[33m9b488fd\u001b[m Hice mi primer commit\n"
     ]
    }
   ],
   "source": [
    "# Descargamos la bitacora \n",
    "!git fetch \n",
    "\n",
    "!echo \"------------------------------------------------\"\n",
    "\n",
    "# Ahora veamos como se actualiza la nuestr con git tree\n",
    "!git tree"
   ]
  },
  {
   "cell_type": "markdown",
   "id": "6eb477be",
   "metadata": {},
   "source": [
    "Ahora, otro comando que es muy útil es **git pull**. Este además de descargar la bitacora, también va a descargar todos los cambios que se realizaron, por lo que es un comando del cual tenemos que tener un poco mas de cuidado a la hora de utilizarlo.  "
   ]
  },
  {
   "cell_type": "code",
   "execution_count": 60,
   "id": "f4360605",
   "metadata": {},
   "outputs": [
    {
     "name": "stdout",
     "output_type": "stream",
     "text": [
      "error: No has concluido tu fusión (MERGE_HEAD existe).\r\n",
      "\u001b[33mayuda: Por favor, realiza un commit antes de fusionar.\u001b[m\r\n",
      "fatal: Saliendo por una fusión inconclusa.\r\n"
     ]
    }
   ],
   "source": [
    "# Aplicamos el git pull\n",
    "!git pull"
   ]
  },
  {
   "cell_type": "markdown",
   "id": "e86bde58",
   "metadata": {},
   "source": [
    "Podemos notar que nuestro pull no funcionó (si es tu primera vez te debe salir una serie de comando que puedes usar). Esto es ya que si es tu primera vez, git no sabemos como quieres que se guarden los cambios. Lo mas común es utilizar el comando **git confing pull.rebase false**. Esto lo que hace es es realizar un merge entre lo remoto y lo local. "
   ]
  },
  {
   "cell_type": "code",
   "execution_count": 58,
   "id": "2320a613",
   "metadata": {},
   "outputs": [],
   "source": [
    "!git config --unset pull.rebase"
   ]
  },
  {
   "cell_type": "markdown",
   "id": "794c09f6",
   "metadata": {},
   "source": [
    "git config --unset pull.rebase"
   ]
  },
  {
   "cell_type": "markdown",
   "id": "28ccdc64",
   "metadata": {},
   "source": [
    "# 8. Git Clone "
   ]
  },
  {
   "cell_type": "markdown",
   "id": "f138b961",
   "metadata": {},
   "source": [
    "# 9. Fork en GitHub"
   ]
  },
  {
   "cell_type": "code",
   "execution_count": null,
   "id": "acc4fcc2",
   "metadata": {},
   "outputs": [],
   "source": []
  },
  {
   "cell_type": "markdown",
   "id": "54b25474",
   "metadata": {},
   "source": [
    "# 10. Pull Request"
   ]
  },
  {
   "cell_type": "code",
   "execution_count": null,
   "id": "8a0cf711",
   "metadata": {},
   "outputs": [],
   "source": []
  }
 ],
 "metadata": {
  "kernelspec": {
   "display_name": "Python 3 (ipykernel)",
   "language": "python",
   "name": "python3"
  },
  "language_info": {
   "codemirror_mode": {
    "name": "ipython",
    "version": 3
   },
   "file_extension": ".py",
   "mimetype": "text/x-python",
   "name": "python",
   "nbconvert_exporter": "python",
   "pygments_lexer": "ipython3",
   "version": "3.9.12"
  }
 },
 "nbformat": 4,
 "nbformat_minor": 5
}
