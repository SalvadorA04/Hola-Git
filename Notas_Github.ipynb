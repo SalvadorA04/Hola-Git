{
 "cells": [
  {
   "cell_type": "markdown",
   "id": "82f04e1b",
   "metadata": {},
   "source": [
    "<center><h1>INTRODUCCIÓN A GITHUB</h1></center>\n",
    "\n",
    "Estas notas estan basadas en el curso de Github del canal **MoureDev by Brais Moure.**\n",
    "\n",
    "El repositorio es el siguiente: https://github.com/mouredev/hello-git"
   ]
  },
  {
   "cell_type": "markdown",
   "id": "e513ebad",
   "metadata": {},
   "source": [
    "##  Secciones\n",
    "1. **Instalación**\n",
    "2. "
   ]
  },
  {
   "cell_type": "code",
   "execution_count": null,
   "id": "2f961644",
   "metadata": {},
   "outputs": [],
   "source": []
  },
  {
   "cell_type": "code",
   "execution_count": null,
   "id": "092a0037",
   "metadata": {},
   "outputs": [],
   "source": []
  }
 ],
 "metadata": {
  "kernelspec": {
   "display_name": "Python 3 (ipykernel)",
   "language": "python",
   "name": "python3"
  },
  "language_info": {
   "codemirror_mode": {
    "name": "ipython",
    "version": 3
   },
   "file_extension": ".py",
   "mimetype": "text/x-python",
   "name": "python",
   "nbconvert_exporter": "python",
   "pygments_lexer": "ipython3",
   "version": "3.9.12"
  }
 },
 "nbformat": 4,
 "nbformat_minor": 5
}
