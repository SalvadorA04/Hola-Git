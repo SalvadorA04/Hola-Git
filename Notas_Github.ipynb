{
 "cells": [
  {
   "cell_type": "markdown",
   "id": "82f04e1b",
   "metadata": {},
   "source": [
    "<center><h1>INTRODUCCIÓN A GITHUB</h1></center>\n",
    "\n",
    "Estas notas estan basadas en el curso de Github del canal **MoureDev by Brais Moure.**\n",
    "\n",
    "El repositorio es el siguiente: https://github.com/mouredev/hello-git\n",
    "\n",
    "**Nota:** Esta es una página que guarda y resume todos los comandos principales que podriamos utilizar: https://training.github.com/downloads/es_ES/github-git-cheat-sheet.pdf"
   ]
  },
  {
   "cell_type": "markdown",
   "id": "e513ebad",
   "metadata": {},
   "source": [
    "##  Secciones\n",
    "1. **Introducción a GitHub**\n",
    "2. **Primeros pasos en GitHub**\n",
    "3. **Repositorio Personal**\n",
    "4. **Local y Remoto**\n",
    "5. \n",
    "6. "
   ]
  },
  {
   "cell_type": "markdown",
   "id": "b6363fcd",
   "metadata": {},
   "source": [
    "# 1. Introducción a GitHub\n",
    "\n",
    "GitHub es una plataforma de desarrollo colaborativo basada en Git que permite a los desarrolladores alojar, revisar y gestionar proyectos de software de forma distribuida. Proporciona herramientas para control de versiones, seguimiento de problemas, integración continua y más. GitHub facilita la colaboración entre equipos de desarrollo, permitiendo a los usuarios clonar repositorios, enviar solicitudes de extracción, realizar seguimiento de problemas y gestionar proyectos de manera eficiente.\n",
    "\n",
    "En cuanto a si Git y GitHub son lo mismo, no lo son. Git es un sistema de control de versiones distribuido de código abierto, mientras que GitHub es una plataforma en línea que se basa en Git para proporcionar servicios adicionales, como alojamiento de repositorios en la nube, seguimiento de problemas, solicitudes de extracción y colaboración en proyectos de software. "
   ]
  },
  {
   "cell_type": "markdown",
   "id": "078767c5",
   "metadata": {},
   "source": [
    "# 2. Primeros pasos en GitHub \n",
    "\n",
    "Lo primero que debemos hacer es crearnos una cuenta en github dando un correo y una contraseña. Una vez que realicemos eso, nos tendra que salir una pantalla principipal tal que asi: \n",
    "\n",
    "<p></p>\n",
    "<center><img src=\"imagenes/Imagen_GitHub.png\" alt=\"Texto alternativo\" style=\"width: 1000px;\"/></center>\n",
    "<p></p>\n",
    "\n",
    "Una de las mayores ventajas que tiene GitHub es que tiene una gran documentación, donde esta la podemos encontrar en el siguiente link: https://docs.github.com/es. Cualquier duda que tengamos con respecto a GitHub la podremos resolver con esta documentación. "
   ]
  },
  {
   "cell_type": "markdown",
   "id": "77c48916",
   "metadata": {},
   "source": [
    "# 3. Repositorio Personal\n",
    "\n",
    "Algo muy importante a tener en cuenta es que ademas de ser GitHub un lugar donde podemos guardar repositorios, también es lo mas cercano a una red social para programadores, por lo que es importante que modifiquemos nuestro perfil si lo que queremos es en algun momento darnos a conocer. \n",
    "\n",
    "<p></p>\n",
    "<center><img src=\"imagenes/home_page.png\" alt=\"Texto alternativo\" style=\"width: 1000px;\"/></center>\n",
    "<p></p>\n",
    "\n",
    "Ahora, una parte principales de GitHub es la creación de repositorios. Tenemos dos forma de poder crearlos, una es utilizando de manera local git y luego subirlo a GitHub, y la segunda es directamente crealo desde GitHub. Para hacerlo directamente en GitHub lo que hacemos en irnos a la parte de repositorios y posteriormente a crear, donde nos debe de aparecer lo siguiente: \n",
    "\n",
    "<p></p>\n",
    "<center><img src=\"imagenes/Crear_repositorio.png\" alt=\"Texto alternativo\" style=\"width: 1000px;\"/></center>\n",
    "<p></p>\n",
    "\n",
    "El primer respositorio que crearemos el que tenga nuestro nombre de usuario, y este es especial ya que lo que va a hacer es unirse a nuestro perfil. \n",
    "\n",
    "<p></p>\n",
    "<center><img src=\"imagenes/home_repository.png\" alt=\"Texto alternativo\" style=\"width: 1000px;\"/></center>\n",
    "<p></p>\n",
    "\n",
    "Algunos aspectos importantes son que podemos escoger si nuestro repositorio es pubiclo o privado, poder agregar un archivo readme el cual explica con palabras lo que hace el código de nuestro proyecto, y hasta poder agregar una licencia a nuestro código. Una vez creada nos va a aparecer lo siguiente: \n",
    "\n",
    "<p></p>\n",
    "<center><img src=\"imagenes/primer_repositorio.png\" alt=\"Texto alternativo\" style=\"width: 1000px;\"/></center>\n",
    "<p></p>\n",
    "\n",
    "Notemos que en especial, este repositorio se va a encontrar en nuestro perfil \n",
    "\n",
    "<p></p>\n",
    "<center><img src=\"imagenes/nueva_home_page.png\" alt=\"Texto alternativo\" style=\"width: 1000px;\"/></center>\n",
    "<p></p>"
   ]
  },
  {
   "cell_type": "markdown",
   "id": "e9208222",
   "metadata": {},
   "source": [
    "# 4. Local y Remoto"
   ]
  },
  {
   "cell_type": "code",
   "execution_count": null,
   "id": "a0dbf7ff",
   "metadata": {},
   "outputs": [],
   "source": []
  }
 ],
 "metadata": {
  "kernelspec": {
   "display_name": "Python 3 (ipykernel)",
   "language": "python",
   "name": "python3"
  },
  "language_info": {
   "codemirror_mode": {
    "name": "ipython",
    "version": 3
   },
   "file_extension": ".py",
   "mimetype": "text/x-python",
   "name": "python",
   "nbconvert_exporter": "python",
   "pygments_lexer": "ipython3",
   "version": "3.9.12"
  }
 },
 "nbformat": 4,
 "nbformat_minor": 5
}
