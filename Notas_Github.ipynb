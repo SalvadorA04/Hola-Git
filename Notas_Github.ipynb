{
 "cells": [
  {
   "cell_type": "markdown",
   "id": "82f04e1b",
   "metadata": {},
   "source": [
    "<center><h1>INTRODUCCIÓN A GITHUB</h1></center>\n",
    "\n",
    "Estas notas estan basadas en el curso de Github del canal **MoureDev by Brais Moure.**\n",
    "\n",
    "El repositorio es el siguiente: https://github.com/mouredev/hello-git\n",
    "\n",
    "**Nota:** Esta es una página que guarda y resume todos los comandos principales que podriamos utilizar: https://training.github.com/downloads/es_ES/github-git-cheat-sheet.pdf"
   ]
  },
  {
   "cell_type": "markdown",
   "id": "e513ebad",
   "metadata": {},
   "source": [
    "##  Secciones\n",
    "1. **Introducción a GitHub**\n",
    "2. **Primeros pasos en GitHub**\n",
    "3. **Repositorio Personal**\n",
    "4. **Local y Remoto**\n",
    "5. **Autenticación ssh en GitHub**\n",
    "6. **Repositorio proyecto y Git Remote**\n",
    "7. **Subir un proyecto -- Git push**\n",
    "8. **Git Clone**\n",
    "9. **Fork en GitHub**\n",
    "10. **Pull Request**\n",
    "11. **Herramientas gráficas de Git y GitHub**\n",
    "12. **Git Flow**\n",
    "13. **Git Cherry Pick y Git rebase (Avanzado)**"
   ]
  },
  {
   "cell_type": "markdown",
   "id": "b6363fcd",
   "metadata": {},
   "source": [
    "# 1. Introducción a GitHub\n",
    "\n",
    "GitHub es una plataforma de desarrollo colaborativo basada en Git que permite a los desarrolladores alojar, revisar y gestionar proyectos de software de forma distribuida. Proporciona herramientas para control de versiones, seguimiento de problemas, integración continua y más. GitHub facilita la colaboración entre equipos de desarrollo, permitiendo a los usuarios clonar repositorios, enviar solicitudes de extracción, realizar seguimiento de problemas y gestionar proyectos de manera eficiente.\n",
    "\n",
    "En cuanto a si Git y GitHub son lo mismo, no lo son. Git es un sistema de control de versiones distribuido de código abierto, mientras que GitHub es una plataforma en línea que se basa en Git para proporcionar servicios adicionales, como alojamiento de repositorios en la nube, seguimiento de problemas, solicitudes de extracción y colaboración en proyectos de software. "
   ]
  },
  {
   "cell_type": "markdown",
   "id": "078767c5",
   "metadata": {},
   "source": [
    "# 2. Primeros pasos en GitHub \n",
    "\n",
    "Lo primero que debemos hacer es crearnos una cuenta en github dando un correo y una contraseña. Una vez que realicemos eso, nos tendra que salir una pantalla principipal tal que asi: \n",
    "\n",
    "<p></p>\n",
    "<center><img src=\"imagenes/Imagen_GitHub.png\" alt=\"Texto alternativo\" style=\"width: 1000px;\"/></center>\n",
    "<p></p>\n",
    "\n",
    "Una de las mayores ventajas que tiene GitHub es que tiene una gran documentación, donde esta la podemos encontrar en el siguiente link: https://docs.github.com/es. Cualquier duda que tengamos con respecto a GitHub la podremos resolver con esta documentación. "
   ]
  },
  {
   "cell_type": "markdown",
   "id": "77c48916",
   "metadata": {},
   "source": [
    "# 3. Repositorio Personal\n",
    "\n",
    "Algo muy importante a tener en cuenta es que ademas de ser GitHub un lugar donde podemos guardar repositorios, también es lo mas cercano a una red social para programadores, por lo que es importante que modifiquemos nuestro perfil si lo que queremos es en algun momento darnos a conocer. \n",
    "\n",
    "<p></p>\n",
    "<center><img src=\"imagenes/home_page.png\" alt=\"Texto alternativo\" style=\"width: 1000px;\"/></center>\n",
    "<p></p>\n",
    "\n",
    "Ahora, una parte principales de GitHub es la creación de repositorios. Tenemos dos forma de poder crearlos, una es utilizando de manera local git y luego subirlo a GitHub, y la segunda es directamente crealo desde GitHub. Para hacerlo directamente en GitHub lo que hacemos en irnos a la parte de repositorios y posteriormente a crear, donde nos debe de aparecer lo siguiente: \n",
    "\n",
    "<p></p>\n",
    "<center><img src=\"imagenes/Crear_repositorio.png\" alt=\"Texto alternativo\" style=\"width: 1000px;\"/></center>\n",
    "<p></p>\n",
    "\n",
    "El primer respositorio que crearemos el que tenga nuestro nombre de usuario, y este es especial ya que lo que va a hacer es unirse a nuestro perfil. \n",
    "\n",
    "<p></p>\n",
    "<center><img src=\"imagenes/home_repository.png\" alt=\"Texto alternativo\" style=\"width: 1000px;\"/></center>\n",
    "<p></p>\n",
    "\n",
    "Algunos aspectos importantes son que podemos escoger si nuestro repositorio es pubiclo o privado, poder agregar un archivo readme el cual explica con palabras lo que hace el código de nuestro proyecto, y hasta poder agregar una licencia a nuestro código. Una vez creada nos va a aparecer lo siguiente: \n",
    "\n",
    "<p></p>\n",
    "<center><img src=\"imagenes/primer_repositorio.png\" alt=\"Texto alternativo\" style=\"width: 1000px;\"/></center>\n",
    "<p></p>\n",
    "\n",
    "Notemos que en especial, este repositorio se va a encontrar en nuestro perfil \n",
    "\n",
    "<p></p>\n",
    "<center><img src=\"imagenes/nueva_home_page.png\" alt=\"Texto alternativo\" style=\"width: 1000px;\"/></center>\n",
    "<p></p>"
   ]
  },
  {
   "cell_type": "markdown",
   "id": "e9208222",
   "metadata": {},
   "source": [
    "# 4. Local y Remoto\n",
    "\n",
    "La idea de tener un repositorio remoto es que nos da la ventaja de tener siempre comunicado tanto lo que realicemos de manera local con el servidor, y que si alguien mas quiere acceder a la información se comunique directamente con el mismo servidor (o yo mismo pero desde otro ordenador), en vez de estar pasando archivos de manera local.\n",
    "\n",
    "<p></p>\n",
    "<center><img src=\"imagenes/local-development-server.png\" alt=\"Texto alternativo\" style=\"width: 400px;\"/></center>\n",
    "<p></p>"
   ]
  },
  {
   "cell_type": "markdown",
   "id": "c0aafce9",
   "metadata": {},
   "source": [
    "# 5. Autenticación ssh en GitHub\n",
    "\n",
    "Ahora, algo muy importante a recordar es que nosotros al usar github estamos mandado información a un servidor, y si queremos tener todo seguro, este servido siempre que mandemos o pidamos algo nos va a pedir un usuario y contraseña. Una forma de poder automatizar esto es usando una autenticación **SSH**. \n",
    "\n",
    "La verdad es que para hacer esto se necesitan muchos pasos, por lo que solo voy a adjuntar el link del mismo GitHub donde explican de una manera muy detallada y muy clara como hacer esta autenticación. **Link:** https://docs.github.com/es/authentication\n",
    "\n",
    "Si por alguna razon no se entiende lo de GitHub, ver este video https://www.youtube.com/watch?app=desktop&v=3GymExBkKjE&t=11053s en el tiempo 2:53:00."
   ]
  },
  {
   "cell_type": "markdown",
   "id": "f65044fb",
   "metadata": {},
   "source": [
    "# 6. Repositorio Proyecto y Git Remote\n",
    "\n",
    "Una vez que ya hicimos todos los pasos anteriores, vamos a practicar subiendo este repositorio a Github. Para ello vamos a crear un repositorio en el mismo GitHub como ya lo hicimos en el capitulo 3. Nos deberia aparecer algo como lo siguiente: \n",
    "\n",
    "<p></p>\n",
    "<center><img src=\"imagenes/hello_git.png\" alt=\"Texto alternativo\" style=\"width: 1000px;\"/></center>\n",
    "<p></p>\n",
    "\n",
    "Una vez hecho esto, es momento de comunicar nuestra computadora con el repositorio de GitHub. Para hacer esto, utilizamos el comando **git remote add < name > < url_del_repositorio >**. Entonces"
   ]
  },
  {
   "cell_type": "code",
   "execution_count": 42,
   "id": "aaf5dfce",
   "metadata": {},
   "outputs": [
    {
     "name": "stdout",
     "output_type": "stream",
     "text": [
      "error: remoto origin ya existe.\r\n"
     ]
    }
   ],
   "source": [
    "# De manera estandar, siempre se toma como name=origin. Por otra parte. para ver el url del repositorio,\n",
    "# nosotros vamos al repositorio y en la parte donde dice code si le damos click nos mostrara la url \n",
    "# para varios casos. Para todo lo que nosotros hemos hecho, nos conviene agarrar la que es por ssh, \n",
    "# ya que es la que ya tenemos configurada. \n",
    "!git remote add origin git@github.com:SalvadorA04/Hello-Git.git"
   ]
  },
  {
   "cell_type": "markdown",
   "id": "261799ba",
   "metadata": {},
   "source": [
    "Muy bien, ya tenemos emparejado ahora nuestro repositorio local con su respectivo reposirotio en GitHub, por lo que ahora solo nos falta subir los archivos. "
   ]
  },
  {
   "cell_type": "markdown",
   "id": "91714177",
   "metadata": {},
   "source": [
    "# 6. Subir un proyecto -- Git push\n",
    "\n",
    "Para poder subir nuestro archivos al repositorio de GitHub, el comando que utilizamos es el de Git push. Primero veamos que pasa si lo usamos directamente"
   ]
  },
  {
   "cell_type": "code",
   "execution_count": 43,
   "id": "40eb1203",
   "metadata": {},
   "outputs": [
    {
     "name": "stdout",
     "output_type": "stream",
     "text": [
      "fatal: La rama actual main no tiene una rama upstream.\r\n",
      "Para empujar la rama actual y configurar el remoto como upstream, usa\r\n",
      "\r\n",
      "    git push --set-upstream origin main\r\n",
      "\r\n",
      "Para hacer que esto pase automáticamente para las ramas que no rastrean\r\n",
      "un upstream, mira 'push.autoSetupRemote' en 'git help config'.\r\n",
      "\r\n"
     ]
    }
   ],
   "source": [
    "!git push"
   ]
  },
  {
   "cell_type": "markdown",
   "id": "442acda6",
   "metadata": {},
   "source": [
    "Veamos que git nos dice que no hemos comunicado las ramas. Para poder hacer esto, utilizamos **git push < name > < rama_del_repositorio_local >**. Mas aun, si por ejemplo sabemos que que nuestra rama main siempre va a estar vinculada a la rama main del repositorio de Github, lo que podemos hacer es usar el  **git push -u origin main **, asi siempre que estemos en nuestro rama main y utilicemos el **git push**, git ya sabra que queremos mandarlo a la rama main del repositorio remoto. \n",
    "\n",
    "**Nota:** Si quisieramos vincular alguna de nuestras ramas con otra rama que no sea la main de nuestro repositorio remoto, utilizamos el comando **git push < name > < rama_del_repositorio_local >: < rama_del_repositorio_remoto >**"
   ]
  },
  {
   "cell_type": "code",
   "execution_count": 44,
   "id": "e6377778",
   "metadata": {},
   "outputs": [
    {
     "name": "stdout",
     "output_type": "stream",
     "text": [
      "Enumerando objetos: 60, listo.\n",
      "Contando objetos: 100% (60/60), listo.\n",
      "Compresión delta usando hasta 8 hilos\n",
      "Comprimiendo objetos: 100% (49/49), listo.\n",
      "Escribiendo objetos: 100% (60/60), 1.20 MiB | 23.65 MiB/s, listo.\n",
      "Total 60 (delta 15), reused 0 (delta 0), pack-reused 0 (from 0)\n",
      "remote: Resolving deltas: 100% (15/15), done.\u001b[K\n",
      "To github.com:SalvadorA04/Hello-Git.git\n",
      " * [new branch]      main -> main\n",
      "rama 'main' configurada para rastrear 'origin/main'.\n"
     ]
    }
   ],
   "source": [
    "# En nuestro caso. \n",
    "!git push -u origin main"
   ]
  },
  {
   "cell_type": "markdown",
   "id": "0fa77b23",
   "metadata": {},
   "source": [
    "Si ahora nos vamos a nuestro repositorio remoto, veremos que todos nuestros archivos se han subidó\n",
    "\n",
    "<p></p>\n",
    "<center><img src=\"imagenes/Subida_archivos.png\" alt=\"Texto alternativo\" style=\"width: 1000px;\"/></center>\n",
    "<p></p>\n",
    "\n",
    "Estupendo, ya sabemos como vincular repositorios y subir archivos. Ahora, vamos al git y creemos el archivo README en el mismo GitHub. Para ello le hacemos click a **Add README**, \n",
    "\n",
    "<p></p>\n",
    "<center><img src=\"imagenes/Add_readme.png\" alt=\"Texto alternativo\" style=\"width: 1000px;\"/></center>\n",
    "<p></p>\n",
    "\n",
    "Posteriormente a esto le hacemos click a **Click Changer** y lo guardamos. Si volvemos a nuestro repositorio, lo que deberia pasar es que nos muestre el README. Muy bien, ya que parece que tenemos todo listo en teoria deberiamos podemor hacer nuestro flujo de trabajo habitual. Supongamos que ahora vamos a trabajar en un nuevo fichero con nombre Hello_Github.py. Entonces"
   ]
  },
  {
   "cell_type": "code",
   "execution_count": 45,
   "id": "a18ef721",
   "metadata": {},
   "outputs": [],
   "source": [
    "# Creamos el fichero Hello_GitHub.py \n",
    "!touch Hello_GitHub.py "
   ]
  },
  {
   "cell_type": "code",
   "execution_count": 46,
   "id": "6a3b9cf1",
   "metadata": {},
   "outputs": [
    {
     "name": "stdout",
     "output_type": "stream",
     "text": [
      "Hola Mundo de GitHub\r\n"
     ]
    }
   ],
   "source": [
    "# En este escribimos print(\"Hola Mundo de GitHub\")\n",
    "!python Hello_GitHub.py"
   ]
  },
  {
   "cell_type": "markdown",
   "id": "fa3b014b",
   "metadata": {},
   "source": [
    "Ya que terminamos nuestro fichero, vamos a hacer nuestro metodología habitual para subir nuestro fichero.  "
   ]
  },
  {
   "cell_type": "code",
   "execution_count": 47,
   "id": "d023cc20",
   "metadata": {
    "scrolled": false
   },
   "outputs": [
    {
     "name": "stdout",
     "output_type": "stream",
     "text": [
      "En la rama main\n",
      "Tu rama está actualizada con 'origin/main'.\n",
      "\n",
      "Cambios no rastreados para el commit:\n",
      "  (usa \"git add <archivo>...\" para actualizar lo que será confirmado)\n",
      "  (usa \"git restore <archivo>...\" para descartar los cambios en el directorio de trabajo)\n",
      "\t\u001b[31mmodificados:     Imagenes/Hello_git.png\u001b[m\n",
      "\t\u001b[31mmodificados:     Notas_Github.ipynb\u001b[m\n",
      "\n",
      "Archivos sin seguimiento:\n",
      "  (usa \"git add <archivo>...\" para incluirlo a lo que será confirmado)\n",
      "\t\u001b[31mHello_GitHub.py\u001b[m\n",
      "\t\u001b[31mImagenes/Add_readme.png\u001b[m\n",
      "\t\u001b[31mImagenes/Subida_archivos.png\u001b[m\n",
      "\n",
      "sin cambios agregados al commit (usa \"git add\" y/o \"git commit -a\")\n",
      "----------------------------------------------------------------------\n",
      "----------------------------------------------------------------------\n",
      "[main dd2a9eb] Se actualizarón todos los archivos y se agregó el fichero Hello_GitHub.py\n",
      " 5 files changed, 80 insertions(+), 24 deletions(-)\n",
      " create mode 100644 Hello_GitHub.py\n",
      " create mode 100644 Imagenes/Add_readme.png\n",
      " create mode 100644 Imagenes/Subida_archivos.png\n",
      "----------------------------------------------------------------------\n",
      "To github.com:SalvadorA04/Hello-Git.git\n",
      " \u001b[31m! [rejected]       \u001b[m main -> main (fetch first)\n",
      "\u001b[31merror: falló el empuje de algunas referencias a 'github.com:SalvadorA04/Hello-Git.git'\n",
      "\u001b[m\u001b[33mayuda: Updates were rejected because the remote contains work that you do not\u001b[m\n",
      "\u001b[33mayuda: have locally. This is usually caused by another repository pushing to\u001b[m\n",
      "\u001b[33mayuda: the same ref. If you want to integrate the remote changes, use\u001b[m\n",
      "\u001b[33mayuda: 'git pull' before pushing again.\u001b[m\n",
      "\u001b[33mayuda: See the 'Note about fast-forwards' in 'git push --help' for details.\u001b[m\n"
     ]
    }
   ],
   "source": [
    "# Vamos a ver primero el status \n",
    "!git status \n",
    "\n",
    "!echo \"----------------------------------------------------------------------\"\n",
    "\n",
    "# Ya que hemos cambiado varios archivos, vamos a hacer un commit de todos\n",
    "!git add . \n",
    "\n",
    "!echo \"----------------------------------------------------------------------\"\n",
    "\n",
    "!git commit -m \"Se actualizarón todos los archivos y se agregó el fichero Hello_GitHub.py\"\n",
    "\n",
    "!echo \"----------------------------------------------------------------------\"\n",
    "\n",
    "# Por último, vamos a hacer un push de esto \n",
    "!git push "
   ]
  },
  {
   "cell_type": "markdown",
   "id": "e95fda33",
   "metadata": {},
   "source": [
    "Notemos que aunque pareciera que todo lo que hicimos es correcto, al final Git no nos dejó hacer el push. Esto se debe a que en nuestro repositorio remoto hicimos modificaciones al crear el fichero README, entonces Git para no modificar cosas que despues nos podamos arrepentir, se niega a hacerlo. Pero ¿cómo solucionamos esto?. "
   ]
  },
  {
   "cell_type": "markdown",
   "id": "fdac84e5",
   "metadata": {},
   "source": [
    "# 7. Git Fetch y Pull \n",
    "\n",
    "Un primer comando muy util para ver como solucionar el problema anterior es el git fetch. Este lo que hace es descargar la bitacora de los cambios en nuestro repositorio remoto para que asi podamos verlo. Entonces"
   ]
  },
  {
   "cell_type": "code",
   "execution_count": 56,
   "id": "c5aa04b2",
   "metadata": {
    "scrolled": true
   },
   "outputs": [
    {
     "name": "stdout",
     "output_type": "stream",
     "text": [
      "remote: Enumerating objects: 5, done.\u001b[K\n",
      "remote: Counting objects: 100% (5/5), done.\u001b[K\n",
      "remote: Compressing objects: 100% (3/3), done.\u001b[K\n",
      "remote: Total 3 (delta 1), reused 0 (delta 0), pack-reused 0\u001b[K\n",
      "Desempaquetando objetos: 100% (3/3), 966 bytes | 483.00 KiB/s, listo.\n",
      "Desde github.com:SalvadorA04/Hello-Git\n",
      "   1f33570..69efc0c  main       -> origin/main\n",
      "------------------------------------------------\n",
      "* \u001b[33m69efc0c\u001b[m\u001b[33m (\u001b[m\u001b[1;31morigin/main\u001b[m\u001b[33m)\u001b[m Update README.md\n",
      "* \u001b[33m1f33570\u001b[m Create README.md\n",
      "\u001b[31m|\u001b[m * \u001b[33mdd2a9eb\u001b[m\u001b[33m (\u001b[m\u001b[1;36mHEAD\u001b[m\u001b[33m -> \u001b[m\u001b[1;32mmain\u001b[m\u001b[33m)\u001b[m Se actualizarón todos los archivos y se agregó el fichero Hello_GitHub.py\n",
      "\u001b[31m|\u001b[m\u001b[31m/\u001b[m  \n",
      "* \u001b[33m6723857\u001b[m Se actualizaron todos los archivos\n",
      "* \u001b[33mcade01f\u001b[m Se actualizó el .gitignore agregador el fichero .DS_store\n",
      "* \u001b[33md816024\u001b[m Se agregaron los capitulos 4,5 y 6 de estas notas\n",
      "* \u001b[33m0607987\u001b[m Modficaciones\n",
      "* \u001b[33m52d008f\u001b[m Modificaciones en gitignore y en los nombres de los archivos\n",
      "* \u001b[33m60b99e2\u001b[m\u001b[33m (\u001b[m\u001b[1;33mtag: \u001b[m\u001b[1;33mversion_1_notas\u001b[m\u001b[33m)\u001b[m Notas hasta el capitulo 20 de Git\n",
      "* \u001b[33m75fe455\u001b[m última versión del archivo\n",
      "* \u001b[33m586ff27\u001b[m Agregamos la versión final de nuestra aportación\n",
      "* \u001b[33m72cc362\u001b[m Agregamos la versión final de nuestra aportación\n",
      "* \u001b[33m06a6700\u001b[m Agregamos la versión final de nuestra aportación\n",
      "* \u001b[33m13c9ba6\u001b[m Mi primer aporte a la colaboración\n",
      "* \u001b[33mfc4774a\u001b[m\u001b[33m (\u001b[m\u001b[1;33mtag: \u001b[m\u001b[1;33mgit_day_1\u001b[m\u001b[33m)\u001b[m se añadió el .gitignore\n",
      "* \u001b[33ma50e18f\u001b[m Se actualizó el texto del print\n",
      "* \u001b[33mb91bea0\u001b[m Este es mi segundo commit\n",
      "* \u001b[33m9b488fd\u001b[m Hice mi primer commit\n"
     ]
    }
   ],
   "source": [
    "# Descargamos la bitacora \n",
    "!git fetch \n",
    "\n",
    "!echo \"------------------------------------------------\"\n",
    "\n",
    "# Ahora veamos como se actualiza la nuestr con git tree\n",
    "!git tree"
   ]
  },
  {
   "cell_type": "markdown",
   "id": "ad07be25",
   "metadata": {},
   "source": [
    "Ahora, otro comando que es muy útil es **git pull**. Este además de descargar la bitacora, también va a descargar todos los cambios que se realizaron, por lo que es un comando del cual tenemos que tener un poco mas de cuidado a la hora de utilizarlo.  "
   ]
  },
  {
   "cell_type": "code",
   "execution_count": 65,
   "id": "6ae276e7",
   "metadata": {},
   "outputs": [
    {
     "name": "stdout",
     "output_type": "stream",
     "text": [
      "\u001b[33mayuda: Las ramas se han divergido y hay que especificar cómo reconciliarlas.\u001b[m\r\n",
      "\u001b[33mayuda: Se puede hacerlo ejecutando uno de los comandos siguiente antes del\u001b[m\r\n",
      "\u001b[33mayuda: próximo pull:\u001b[m\r\n",
      "\u001b[33mayuda: \u001b[m\r\n",
      "\u001b[33mayuda:   git config pull.rebase false  # fusionar\u001b[m\r\n",
      "\u001b[33mayuda:   git config pull.rebase true   # rebasar\u001b[m\r\n",
      "\u001b[33mayuda:   git config pull.ff only       # solo avance rápido\u001b[m\r\n",
      "\u001b[33mayuda: \u001b[m\r\n",
      "\u001b[33mayuda: Se puede reemplazar \"git config\" con \"git config --global\" para aplicar\u001b[m\r\n",
      "\u001b[33mayuda: la preferencia en todos los repositorios. También se puede pasar\u001b[m\r\n",
      "\u001b[33mayuda: --rebase, --no-rebase o --ff-only en el comando para sobrescribir la\u001b[m\r\n",
      "\u001b[33mayuda: configuración por defecto en cada invocación.\u001b[m\r\n",
      "fatal: Necesita especificar cómo reconciliar las ramas divergentes.\r\n"
     ]
    }
   ],
   "source": [
    "# Realizamos el pull\n",
    "!git pull"
   ]
  },
  {
   "cell_type": "markdown",
   "id": "fdd17dc2",
   "metadata": {},
   "source": [
    "Podemos notar que nuestro pull no funcionó y que este nos da comandos de ayuda de que hacer. Esto se debe aque  si es tu primera vez haciendo un pull, git no sabemos como quieres que se guarden los cambios. Lo mas común es utilizar el comando **git confing pull.rebase false**. Esto lo que hace es  realizar un merge entre lo remoto y lo local. "
   ]
  },
  {
   "cell_type": "code",
   "execution_count": 68,
   "id": "baecaaef",
   "metadata": {},
   "outputs": [],
   "source": [
    "# Configuramos nuestro pull a rebase false \n",
    "!git config pull.rebase false  # Al correr esto nos va a abrir una ventana de vim dentro de esta celda \n",
    "                               # Para cerrarla solo interrumpe la celda con Kernel Interrup"
   ]
  },
  {
   "cell_type": "code",
   "execution_count": 76,
   "id": "b78f42d6",
   "metadata": {},
   "outputs": [
    {
     "name": "stdout",
     "output_type": "stream",
     "text": [
      "Desde github.com:SalvadorA04/Hello-Git\n",
      " * branch            main       -> FETCH_HEAD\n",
      "Ya está actualizado.\n",
      "----------------------------------------------------\n",
      "Hello_GitHub.py          README.md                tempCodeRunnerFile.ipynb\n",
      "\u001b[1m\u001b[36mImagenes\u001b[m\u001b[m                 hellogit.py              tempCodeRunnerFile.py\n",
      "Notas_Git.ipynb          hellogit2.py\n",
      "Notas_Github.ipynb       mi_trabajo.py\n"
     ]
    }
   ],
   "source": [
    "# Volvemos a realizar el pull \n",
    "!git pull origin main\n",
    "\n",
    "!echo \"----------------------------------------------------\"\n",
    "\n",
    "# Veamos que ahora nos aparece el archivo README \n",
    "!ls"
   ]
  },
  {
   "cell_type": "markdown",
   "id": "da329698",
   "metadata": {},
   "source": [
    "Muy bien, ahora ya tenemos actualizado nuestro repositorio. Ya podemos entonces realizar el push que queriamos hacer antes.\n",
    "\n",
    "\n",
    "**Nota:** Si queremos deshacer la configuración del pull rebase, solo usamos el comando **!git config --unset pull.rebase**. "
   ]
  },
  {
   "cell_type": "code",
   "execution_count": 77,
   "id": "044e662f",
   "metadata": {},
   "outputs": [
    {
     "name": "stdout",
     "output_type": "stream",
     "text": [
      "Enumerando objetos: 25, listo.\n",
      "Contando objetos: 100% (19/19), listo.\n",
      "Compresión delta usando hasta 8 hilos\n",
      "Comprimiendo objetos: 100% (12/12), listo.\n",
      "Escribiendo objetos: 100% (13/13), 410.85 KiB | 6.32 MiB/s, listo.\n",
      "Total 13 (delta 6), reused 0 (delta 0), pack-reused 0 (from 0)\n",
      "remote: Resolving deltas: 100% (6/6), completed with 3 local objects.\u001b[K\n",
      "To github.com:SalvadorA04/Hello-Git.git\n",
      "   69efc0c..2ff3f77  main -> main\n"
     ]
    }
   ],
   "source": [
    "# Vamos a realizar nuestro push \n",
    "!git push"
   ]
  },
  {
   "cell_type": "markdown",
   "id": "3c5f1be4",
   "metadata": {},
   "source": [
    "Si nos vamos a nuestro repositorio de GitHub, notaremos que va a aparecer este nuevo fichero. "
   ]
  },
  {
   "cell_type": "markdown",
   "id": "31976967",
   "metadata": {},
   "source": [
    "# 8. Git Clone \n",
    "\n",
    "Supongamos que estamos en otra computadora y tenemos acceso con ssh al repositorio de Hello-Git (si no tuvieramos el acceso nos va a pedir una contraseña la cual nos deben de dar). Si yo quiero copiar este repositorio, git ya nos da de una manera muy eficiente y rapida como clonar este repositorio. Un ejemplo de como realizar esto es lo siguiente: "
   ]
  },
  {
   "cell_type": "code",
   "execution_count": 79,
   "id": "c8239f33",
   "metadata": {},
   "outputs": [
    {
     "name": "stdout",
     "output_type": "stream",
     "text": [
      "Clonando en '/Users/salvadoralejandro/Desktop/Copia_repositorio'...\n",
      "remote: Enumerating objects: 79, done.\u001b[K\n",
      "remote: Counting objects: 100% (79/79), done.\u001b[K\n",
      "remote: Compressing objects: 100% (45/45), done.\u001b[K\n",
      "remote: Total 79 (delta 24), reused 72 (delta 21), pack-reused 0\u001b[K\n",
      "Recibiendo objetos: 100% (79/79), 1.60 MiB | 2.87 MiB/s, listo.\n",
      "Resolviendo deltas: 100% (24/24), listo.\n"
     ]
    }
   ],
   "source": [
    "# Primero, tenemos que buscar la url de nuestro fichero. Luego, usamos el comando git clone \n",
    "# en donde damos primero la url y luego donde queremos hacer la copia en nuestra computadora \n",
    "# Si ya estamos en la terminal donde queremos realizar la compia, esto último no es necesario\n",
    "!git clone git@github.com:SalvadorA04/Hello-Git.git /Users/salvadoralejandro/Desktop/Copia_repositorio      "
   ]
  },
  {
   "cell_type": "markdown",
   "id": "359bfe78",
   "metadata": {},
   "source": [
    "Si nosotros ahora vamos a este directorio, veremos que tenemos todos los archivos"
   ]
  },
  {
   "cell_type": "code",
   "execution_count": 80,
   "id": "ef5814fd",
   "metadata": {},
   "outputs": [
    {
     "name": "stdout",
     "output_type": "stream",
     "text": [
      "Hello_GitHub.py          README.md                tempCodeRunnerFile.ipynb\r\n",
      "\u001b[1m\u001b[36mImagenes\u001b[m\u001b[m                 hellogit.py              tempCodeRunnerFile.py\r\n",
      "Notas_Git.ipynb          hellogit2.py\r\n",
      "Notas_Github.ipynb       mi_trabajo.py\r\n"
     ]
    }
   ],
   "source": [
    "!cd /Users/salvadoralejandro/Desktop/Copia_repositorio # Abrimos el directorio \n",
    "!ls                                                    # Checamos el contenido de este"
   ]
  },
  {
   "cell_type": "markdown",
   "id": "ef6ed5f6",
   "metadata": {},
   "source": [
    "# 9. Fork en GitHub\n",
    "\n",
    "Lo que sigue es un ejemplo de lo que pasaria si yo quisiera trabajar con un repositorio al que no me han dado acceso. Si nosotros clonamos por ejemplo el repositorio de Hello-git con otra cuenta, lo que va a pasar es que si nosotros hacemos un push no nos va a dejar. Para ello lo que hacemos es un fork al repositorio, lo que implica que hace una copia la cual se guardara en nuestro repositorio personal. Esto nos permite experimentar, hacer cambios y contribuir al proyecto sin afectar el repositorio original.\n",
    "\n",
    "Ahora, vamos a hacer esto para el siguiente repositorio: https://github.com/mouredev/hello-git\n",
    "\n",
    "**Pasos:**\n",
    "1. Ir al repositorio y darle click al boton Fork \n",
    "\n",
    "<p></p>\n",
    "<center><img src=\"imagenes/Fork.png\" alt=\"Texto alternativo\" style=\"width: 1000px;\"/></center>\n",
    "<p></p>\n",
    "\n",
    "\n",
    "\n",
    "2. Asignarle un nombre al Fork \n",
    "\n",
    "<p></p>\n",
    "<center><img src=\"imagenes/Creación_fork.png\" alt=\"Texto alternativo\" style=\"width: 1000px;\"/></center>\n",
    "<p></p>\n",
    "\n",
    "\n",
    "\n",
    "3. Corroborar que ya esta asignado a nuestro perfil \n",
    "\n",
    "<p></p>\n",
    "<center><img src=\"imagenes/Fork_realizado.png\" alt=\"Texto alternativo\" style=\"width: 1000px;\"/></center>\n",
    "<p></p>\n",
    "\n",
    "\n",
    "\n",
    "**Nota:** Esto se puede hacer facilmente con repositorios publicos. Si los repositorios son privados, la persona nos tiene que mandar una invitación, y ya con eso podemos realizar el Fork. \n",
    "\n",
    "Por último, si el repositorio con el que trabajamos ha sufrido commits, podemos actualizar rapidamente nuestro Fork con el boton **Sync Fork**, el cual nos mostrara a su vez los cambios que se han realizado. "
   ]
  },
  {
   "cell_type": "markdown",
   "id": "b8cf692a",
   "metadata": {},
   "source": [
    "# 10. Pull Request\n",
    "\n",
    "Ahora vamos a introducir un concepto que es muy parecido a git pull, pero que tiene una parte diferente lo cual lo hace muy util.\n",
    "\n",
    "Un **Pull Request (PR)** es una **solicitud** que un colaborador de un repositorio hace a los dueños del repositorio para que **revisen y, potencialmente, fusionen** los cambios que ha realizado en una rama de código específica con la rama principal del repositorio. \n",
    "\n",
    "La ventaje de esto  incluye información sobre los cambios realizados, como las **diferencias entre la rama de código del colaborador y la rama principal** del repositorio. También puede contener detalles adicionales, como **propósitos del cambio**, problemas relacionados y cualquier otra información relevante. Por último, los pull Requests pueden ser realizados tanto por colaboradores del proyecto como por personas externas al mismo. Los contribucioenes de cada uno son las siguientes:\n",
    "\n",
    "1. **Colaboradores del proyecto:** Estos son los usuarios que tienen acceso de escritura al repositorio. Pueden crear Pull Requests para proponer cambios en el código base del proyecto. Esta es una práctica común para equipos de desarrollo que trabajan juntos en un proyecto y desean revisar y colaborar en cambios antes de fusionarlos con la rama principal.\n",
    "\n",
    "2. **Contribuyentes externos:** Cualquier persona que no tenga acceso de escritura al repositorio puede realizar un fork del proyecto, realizar cambios en su propio fork y luego abrir un Pull Request desde su fork hacia el repositorio original. Este es un mecanismo común para que los contribuyentes externos propongan cambios a proyectos de código abierto o proyectos en los que no tienen acceso de escritura directo.\n",
    "\n",
    "Una vez puesto todo esto en contexto, ¿cómo se hace un pull request?. Para facilitar las cosas de este ejemplo, vamos a modificar el archivo hello.md tal que vamos a poner nuestro nombre al final (este es un ejercicio del mismo video-curso). \n",
    "\n",
    "**Ejemplo:**\n",
    "\n",
    "1. Modificamos el archivo hello.md \n",
    "\n",
    "<p></p>\n",
    "<center><img src=\"imagenes/Edición_archivo.png\" alt=\"Texto alternativo\" style=\"width: 1000px;\"/></center>\n",
    "<p></p>\n",
    "\n",
    "2. Realizamos el commit \n",
    "\n",
    "<p></p>\n",
    "<center><img src=\"imagenes/Commit del archivo.png\" alt=\"Texto alternativo\" style=\"width: 1000px;\"/></center>\n",
    "<p></p>\n",
    "\n",
    "\n",
    "3. Solicitamos el Pull Request\n",
    "\n",
    "<p></p>\n",
    "<center><img src=\"imagenes/Comenzar_PR.png\" alt=\"Texto alternativo\" style=\"width: 1000px;\"/></center>\n",
    "<p></p>\n",
    "\n",
    "4. Verificar los cambios que realizamos \n",
    "\n",
    "<p></p>\n",
    "<center><img src=\"imagenes/Descripción.png\" alt=\"Texto alternativo\" style=\"width: 1000px;\"/></center>\n",
    "<p></p>\n",
    "\n",
    "5. Dar una descripción de los cambios en el repositorios \n",
    "\n",
    "<p></p>\n",
    "<center><img src=\"imagenes/Fork_realizado.png\" alt=\"Texto alternativo\" style=\"width: 1000px;\"/></center>\n",
    "<p></p>\n",
    "\n",
    "6. Finalizar el pull Request \n",
    "\n",
    "\n",
    "\n",
    "Una vez terminado esto, el dueño del repositorio (o encargados del mismo) van a recibir una notificación de este PR, y va a pasar a un proceso de revisión para luego ser rechazado o aprobado. "
   ]
  },
  {
   "cell_type": "markdown",
   "id": "5accdf9e",
   "metadata": {},
   "source": [
    "# 11. Herramientas gráficas para Git y GitHub\n",
    "\n",
    "Existen muchas herramientas gráficas para Git y GitHub, las cuales ya nos ahorran un poco la parte de tener que meter comandos a la terminar, y poder visualizar mucho mejor cosas que en la terminal no se podrian. Esto ya es cuestión de gustos en cuestión de que aplicaciones usar o si es mejor utilizar la terminal, realmente lo unico importante es saber que hace cada tarea de Git y con eso realizar la tarea que querramos. Algunas herramientas son: \n",
    "\n",
    "1. Git Desktop\n",
    "2. Git Kraken \n",
    "3. Git Fork \n",
    "4. entre otras \n",
    "\n",
    "<p></p>\n",
    "<center><img src=\"imagenes/Git apps.jpeg\" alt=\"Texto alternativo\" style=\"width: 500px;\"/></center>\n",
    "<p></p>"
   ]
  },
  {
   "cell_type": "markdown",
   "id": "cdebfa87",
   "metadata": {},
   "source": [
    "# 12. Git Flow \n",
    "\n",
    "Existen muchas formas de trabajar con Git y GitHub, y cada una de ellas tiene sus pros y contras. Una que es muy utilizada y probablemente sea una metodología a la cual le encontramos mucho sentido es a la de Git Flow. Esta se puede representar de manera gráfica de la siguiente forma: \n",
    "\n",
    "<p></p>\n",
    "<center><img src=\"imagenes/Git flow.png\" alt=\"Texto alternativo\" style=\"width: 500px;\"/></center>\n",
    "<p></p>\n",
    "\n",
    "\n",
    "\n",
    "Esta forma de trabajo ya esta automatizada con sus extensiones y tanto esto como su explicaicón se encuentran en el siguiente link de esta página, la cual explica de manera muy detallada que representa cada rama y como utilizarla:https://www.atlassian.com/es/git/tutorials/comparing-workflows/gitflow-workflow. También algo importante es que esa página enseña Git. "
   ]
  },
  {
   "cell_type": "markdown",
   "id": "c7466f02",
   "metadata": {},
   "source": [
    "# 13. Git Cherry-pick y  Git rebase (Avanzado)\n",
    "\n",
    "Estos dos comandos son algo situacionales, y casi siempre lo ponen como git avanzado ya que si nos los usas bien en muy facil que rompas cosas y git te pida que las arregles. Solo voy a dar un breve descripción de lo que hace cada uno por si se llegara a necesitar en un futuro: \n",
    "\n",
    "- **Git Cherry-pick:** El comando git cherry-pick se utiliza para aplicar un commit específico de una rama a otra. Esto puede ser útil cuando deseas llevar cambios específicos de una rama a otra sin tener que fusionar toda la rama. La estructura del comando es **git cherry-pick < commit-hash >** \n",
    "\n",
    "- **Git rebase:** El comando git rebase se utiliza para cambiar la base de una rama. Básicamente, reescribe el historial de confirmaciones de una rama para que se aplique sobre otra base. Esto es útil para mantener un historial de confirmaciones limpio y lineal, especialmente cuando trabajas en colaboración con otros y deseas mantener tu historial de confirmaciones más ordenado. La estructura del comando es **git rebase < base-branch >** \n",
    "\n",
    "\n",
    "\n",
    "Algunas advertencias para cada uno de estos comandos son las siguientes: \n",
    "\n",
    "**Cherry-pick:**\n",
    "- Es importante tener en cuenta que cherry-pick crea un nuevo commit con los mismos cambios que el commit original, pero con un nuevo hash. Esto significa que si estás trabajando en un proyecto colaborativo, podrías generar conflictos si los cambios que estás aplicando entran en conflicto con los cambios en la rama destino.\n",
    "\n",
    "**Rebase:**\n",
    "- Es importante tener en cuenta que rebase reescribe la historia de la rama, lo que significa que los commits originales de la rama serán diferentes después del rebase. Por lo tanto, se debe tener cuidado al usarlo en ramas compartidas o públicas, ya que puede causar problemas si otras personas están basando su trabajo en la versión anterior de la rama."
   ]
  }
 ],
 "metadata": {
  "kernelspec": {
   "display_name": "Python 3 (ipykernel)",
   "language": "python",
   "name": "python3"
  },
  "language_info": {
   "codemirror_mode": {
    "name": "ipython",
    "version": 3
   },
   "file_extension": ".py",
   "mimetype": "text/x-python",
   "name": "python",
   "nbconvert_exporter": "python",
   "pygments_lexer": "ipython3",
   "version": "3.9.12"
  }
 },
 "nbformat": 4,
 "nbformat_minor": 5
}
