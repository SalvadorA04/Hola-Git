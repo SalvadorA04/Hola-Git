{
 "cells": [
  {
   "cell_type": "markdown",
   "id": "e05ea40d",
   "metadata": {},
   "source": [
    "<center><h1>INTRODUCCIÓN A GIT</h1></center>\n",
    "\n",
    "Estas notas estan basadas en el curso de Github del canal **MoureDev by Brais Moure.**\n",
    "\n",
    "El repositorio es el siguiente: https://github.com/mouredev/hello-git\n",
    "\n",
    "**Nota:** La pagína de Git tiene una gran documentación y además te dan de forma gratuita un libro. El link es el siguiente: https://git-scm.com/"
   ]
  },
  {
   "cell_type": "markdown",
   "id": "eb8690f1",
   "metadata": {},
   "source": [
    "#  Contenido\n",
    "1. **Instalación**\n",
    "2. **Configurar Git**\n",
    "3. **Git Init**\n",
    "4. **Ramas de Git y los comando ADD y COMMIT**\n",
    "5. **Git Log y Git Status**\n",
    "6. **Git Checkout**\n",
    "7. **Git Log: Visualización**\n",
    "8. **Git Alias**\n",
    "9. **Gitignore**\n",
    "10. **Git Diff**\n",
    "11. **Desplazamiento**\n",
    "12. **Git Reset Hard y Reflog**\n",
    "13. **Git Tag**\n",
    "\n",
    "Nota: Hacer esto mejor (mas al rato)"
   ]
  },
  {
   "cell_type": "markdown",
   "id": "79618f6c",
   "metadata": {},
   "source": [
    "#  1. Instalación\n",
    "\n",
    "Si en la computadora en la que trabajas es mac o linux, ya tienes intalada en tu computadora. Todos modos, para poder instalarlo podemos usar la pagína de Git para seguir la guia de como instalarlo en el sistema que tengas.\n",
    "\n",
    "En este caso trabajaremos con Mac para poder instalarlo, para ello se deben hacer los siguientes pasos: \n",
    "\n",
    "1. Ir a la terminal\n",
    "2. Introducir $brew install git \n",
    "\n",
    "**Nota:** En este notebook vamos a utilizar las celdas de jupyter como la terminal, para ello se poner el comando %%bash al inicio  o cada comando poner el simbolo !."
   ]
  },
  {
   "cell_type": "code",
   "execution_count": 1,
   "id": "b9427f8f",
   "metadata": {
    "scrolled": true
   },
   "outputs": [
    {
     "name": "stdout",
     "output_type": "stream",
     "text": [
      "\u001b[34m==>\u001b[0m \u001b[1mDownloading https://formulae.brew.sh/api/formula.jws.json\u001b[0m\n",
      "######################################################################### 100.0%\n",
      "\u001b[34m==>\u001b[0m \u001b[1mDownloading https://formulae.brew.sh/api/cask.jws.json\u001b[0m\n",
      "######################################################################### 100.0%\n",
      "\u001b[33mWarning:\u001b[0m git 2.44.0 is already installed and up-to-date.\n",
      "To reinstall 2.44.0, run:\n",
      "  brew reinstall git\n"
     ]
    }
   ],
   "source": [
    "!brew install git"
   ]
  },
  {
   "cell_type": "markdown",
   "id": "9bfa8473",
   "metadata": {},
   "source": [
    "Ahora, para verificar si tenemos instalado git, lo que podemos hacer es ver que versión es la que tenemos instalada:  "
   ]
  },
  {
   "cell_type": "code",
   "execution_count": 2,
   "id": "b6e7425a",
   "metadata": {
    "scrolled": true
   },
   "outputs": [
    {
     "name": "stdout",
     "output_type": "stream",
     "text": [
      "git version 2.44.0\r\n"
     ]
    }
   ],
   "source": [
    "!git --version"
   ]
  },
  {
   "cell_type": "markdown",
   "id": "eb52d3b5",
   "metadata": {},
   "source": [
    "Si queremos ver comandos basicos o recibir algunas ayudas, introducimos el siguiente comando: "
   ]
  },
  {
   "cell_type": "code",
   "execution_count": 3,
   "id": "c91d1a83",
   "metadata": {},
   "outputs": [
    {
     "name": "stdout",
     "output_type": "stream",
     "text": [
      "uso: git [-v | --version] [-h | --help] [-C <path>] [-c <name>=<value>]\r\n",
      "           [--exec-path[=<path>]] [--html-path] [--man-path] [--info-path]\r\n",
      "           [-p | --paginate | -P | --no-pager] [--no-replace-objects] [--bare]\r\n",
      "           [--git-dir=<path>] [--work-tree=<path>] [--namespace=<name>]\r\n",
      "           [--config-env=<name>=<envvar>] <command> [<args>]\r\n",
      "\r\n",
      "Estos son comandos comunes de Git usados en varias situaciones:\r\n",
      "\r\n",
      "comenzar un área de trabajo (mira también: git help tutorial)\r\n",
      "   clone     Clonar un repositorio dentro de un nuevo directorio\r\n",
      "   init      Crear un repositorio de Git vacío o reinicia el que ya existe\r\n",
      "\r\n",
      "trabajar en los cambios actuales (mira también: git help everyday)\r\n",
      "   add       Agregar contenido de archivos al índice\r\n",
      "   mv        Mover o cambiar el nombre a archivos, directorios o enlaces simbólicos\r\n",
      "   restore   Restaurar archivos del árbol de trabajo\r\n",
      "   rm        Borrar archivos del árbol de trabajo y del índice\r\n",
      "\r\n",
      "examinar el historial y el estado (mira también: git help revisions)\r\n",
      "   bisect    Usar la búsqueda binaria para encontrar el commit que introdujo el bug\r\n",
      "   diff      Mostrar los cambios entre commits, commit y árbol de trabajo, etc\r\n",
      "   grep      Imprimir las líneas que concuerden con el patrón\r\n",
      "   log       Mostrar los logs de los commits\r\n",
      "   show      Mostrar varios tipos de objetos\r\n",
      "   status    Mostrar el estado del árbol de trabajo\r\n",
      "\r\n",
      "crecer, marcar y ajustar tu historial común\r\n",
      "   branch    Listar, crear, o borrar ramas\r\n",
      "   commit    Grabar los cambios al repositorio\r\n",
      "   merge     Juntar dos o más historiales de desarrollo juntos\r\n",
      "   rebase    Volver a aplicar commits en la punta de otra rama\r\n",
      "   reset     Reiniciar el HEAD actual a un estado específico\r\n",
      "   switch    Cambiar de branch\r\n",
      "   tag       Crear, listar, borrar o verificar un objeto de tag firmado con GPG\r\n",
      "\r\n",
      "colaborar (mira también: git help workflows)\r\n",
      "   fetch     Descargar objetos y referencias de otro repositorio\r\n",
      "   pull      Realizar un fetch e integra con otro repositorio o rama local\r\n",
      "   push      Actualizar referencias remotas junto con sus objetos asociados\r\n",
      "\r\n",
      "'git help -a' y 'git help -g' listan los subcomandos disponibles y algunas\r\n",
      "guías de concepto. Consulta 'git help <command>' o 'git help <concepto>'\r\n",
      "para leer sobre un subcomando o concepto específico.\r\n",
      "Mira 'git help git' para una vista general del sistema.\r\n"
     ]
    }
   ],
   "source": [
    "!git --help"
   ]
  },
  {
   "cell_type": "markdown",
   "id": "10f845d5",
   "metadata": {},
   "source": [
    "# 2. Configurar Git\n",
    "\n",
    "Para poder trabajar en Git, es muy importarnte tener un usuario y contraseña. Ahora, las configuraciones que vamos a hacer en este momento van a ser de manera global y esto es principalmente porque los ejemplos en este notebook van a ser para trabajar en nuestra propia computadora. \n",
    "\n",
    "**Nota:** Es muy importante tener en cuenta que si vamos a trabajar con Git con un equipo, entonces los cambios que realicemos de manera global van a afectar a todas las computadoras que trabajen con el mismo usuario.\n",
    "\n",
    "Para poder crear un usuario, lo que hacemos es lo siguiente: "
   ]
  },
  {
   "cell_type": "code",
   "execution_count": 4,
   "id": "ba352f7c",
   "metadata": {},
   "outputs": [],
   "source": [
    "# Vamos a crear el usuario con el nombre Salvador\n",
    "\n",
    "!git config --global user.name \"Salvador\""
   ]
  },
  {
   "cell_type": "markdown",
   "id": "5ada67dd",
   "metadata": {},
   "source": [
    "A su vez, podemos asociar a este usuario un correo "
   ]
  },
  {
   "cell_type": "code",
   "execution_count": 5,
   "id": "9f84e480",
   "metadata": {},
   "outputs": [],
   "source": [
    " !git config --global user.email \"salvadorochoa.fcfm@ms.uas.edu.mx\""
   ]
  },
  {
   "cell_type": "markdown",
   "id": "35a5a828",
   "metadata": {},
   "source": [
    "Es muy importante hacer estos pasos ya que si no, no podremos usar git."
   ]
  },
  {
   "cell_type": "markdown",
   "id": "e00e52d5",
   "metadata": {},
   "source": [
    "# 3. Git Init\n",
    "\n",
    "Primero, vamos a crear un fichero de python como ejemplo de un archivo que vamos a manipular: "
   ]
  },
  {
   "cell_type": "code",
   "execution_count": 7,
   "id": "397fb939",
   "metadata": {},
   "outputs": [],
   "source": [
    "# Este archivo que vamos a crear tendra el nombre de hellogit\n",
    "!touch hellogit.py"
   ]
  },
  {
   "cell_type": "markdown",
   "id": "e5649cc0",
   "metadata": {},
   "source": [
    "Ahora, dentro del mismo archivo vamos a escribir un pequeño comando, en mi caso escribir el comando print(\"Hola mundo\"). \n",
    "\n",
    "**Nota:** Esto se realizó de manera manual\n",
    "\n",
    "Para comprobar que se este archivo funciona, corremos el siguiente comando en la terminal: "
   ]
  },
  {
   "cell_type": "code",
   "execution_count": 12,
   "id": "fcb914ee",
   "metadata": {},
   "outputs": [
    {
     "name": "stdout",
     "output_type": "stream",
     "text": [
      "Hola mundo\r\n"
     ]
    }
   ],
   "source": [
    "!python hellogit.py"
   ]
  },
  {
   "cell_type": "markdown",
   "id": "e7189984",
   "metadata": {},
   "source": [
    "Uno de los aspectos mas importante de Git es la capacidad de realizar un control de versiones. Algunos ejemplos de situaciones donde nos damos cuenta que necesitamos esta herramienta son las siguientes: \n",
    "- Muchas veces pasa que al querer modificar un código lo que hacemos es hacer copias de la versión orgininal y modificamos esa copia, y cuando menos nos damos cuenta ya tenemos muchas copias y no sabemos bien que es el archivo con el que estamos trabajando. \n",
    "\n",
    "- Al modificar lineas de código y al pasar los dias ya no te acuerdas que fue lo que se modifico.\n",
    "\n",
    "- etc.\n",
    "\n",
    "Ahora, el primer paso para comenzar a trabajar con Git es en el directorio donde querramos trabajar utilizar el siguiente comando:  "
   ]
  },
  {
   "cell_type": "code",
   "execution_count": 17,
   "id": "fe7aa014",
   "metadata": {},
   "outputs": [
    {
     "name": "stdout",
     "output_type": "stream",
     "text": [
      "\u001b[33mayuda: Usando 'master' como el nombre de la rama inicial. Este nombre de rama predeterminado\u001b[m\r\n",
      "\u001b[33mayuda: está sujeto a cambios. Para configurar el nombre de la rama inicial para usar en todos\u001b[m\r\n",
      "\u001b[33mayuda: de sus nuevos repositorios, reprimiendo esta advertencia, llama a:\u001b[m\r\n",
      "\u001b[33mayuda: \u001b[m\r\n",
      "\u001b[33mayuda: \tgit config --global init.defaultBranch <nombre>\u001b[m\r\n",
      "\u001b[33mayuda: \u001b[m\r\n",
      "\u001b[33mayuda: Los nombres comúnmente elegidos en lugar de 'master' son 'main', 'trunk' y\u001b[m\r\n",
      "\u001b[33mayuda: 'development'. Se puede cambiar el nombre de la rama recién creada mediante este comando:\u001b[m\r\n",
      "\u001b[33mayuda: \u001b[m\r\n",
      "\u001b[33mayuda: \tgit branch -m <nombre>\u001b[m\r\n",
      "Inicializado repositorio Git vacío en /Users/salvadoralejandro/Desktop/Programación/Git_and_Github/.git/\r\n"
     ]
    }
   ],
   "source": [
    "!git init"
   ]
  },
  {
   "cell_type": "markdown",
   "id": "7608e7ff",
   "metadata": {},
   "source": [
    "Una vez que corrimos este comando, lo que va a hacer git es una carpeta oculta la cual ya es un **repositorio de Git** y que por lo tanto podemos trabajar con todas las herramientas que tiene git. Algo importante a notar es que al iniciar estamos trabajando en una **rama** de git la cual se llama **master**, y es la rama principal de nuestro repositorio\n",
    "\n",
    "**Nota:** Vamos a cambiar a partir de ahora el nombre de **master** por **main**. Esto se hace con el siguiente comando: "
   ]
  },
  {
   "cell_type": "code",
   "execution_count": 19,
   "id": "6d4d3f53",
   "metadata": {},
   "outputs": [],
   "source": [
    "!git branch -m \"main\""
   ]
  },
  {
   "cell_type": "markdown",
   "id": "33977031",
   "metadata": {},
   "source": [
    "# 4. Ramas de Git y los comando ADD y COMMIT \n",
    "\n",
    "Podemos imaginarnos las ramas de Git como las ramas de un arbol. Vamos a tener una rama principal, y de la cual van a ver muchas subramas las cuales se desprendan de esta. \n",
    "\n",
    "<img src=\"imagenes/git-branches-merge.png\" alt=\"Texto alternativo\" style=\"width: 500px;\"/>\n",
    "\n",
    "\n",
    "Ahora, la idea de estas ramas es que de nuestro código principal (**rama main**) al realizar una moficación lo guardemos en una subrama (se podria decir que hacemos como un ss de los cambios que realicemos). Para ver el estatus de git de nuestro proyecto es el siguiente: "
   ]
  },
  {
   "cell_type": "code",
   "execution_count": 22,
   "id": "7718ff5b",
   "metadata": {
    "scrolled": true
   },
   "outputs": [
    {
     "name": "stdout",
     "output_type": "stream",
     "text": [
      "En la rama main\r\n",
      "\r\n",
      "No hay commits todavía\r\n",
      "\r\n",
      "Archivos sin seguimiento:\r\n",
      "  (usa \"git add <archivo>...\" para incluirlo a lo que será confirmado)\r\n",
      "\t\u001b[31m.ipynb_checkpoints/\u001b[m\r\n",
      "\t\u001b[31mImagenes/\u001b[m\r\n",
      "\t\u001b[31mNotas Git.ipynb\u001b[m\r\n",
      "\t\u001b[31mNotas Github.ipynb\u001b[m\r\n",
      "\t\u001b[31mhellogit.py\u001b[m\r\n",
      "\r\n",
      "no hay nada agregado al commit pero hay archivos sin seguimiento presentes (usa \"git add\" para hacerles seguimiento)\r\n"
     ]
    }
   ],
   "source": [
    "!git status"
   ]
  },
  {
   "cell_type": "markdown",
   "id": "b682712c",
   "metadata": {},
   "source": [
    "Veamos que nos muestra los archivos de este repositorio donde en este caso estan en color rojo, esto es porque identifica como rojo archivos los cuales se han modificado, mas no se han guardado en git. Para poder añadir estos ficheros al estatus de nuestros git, lo que tenemos que hacer es un **add**. Por ejemplo, agreguemos el fichero hellogit.py:  "
   ]
  },
  {
   "cell_type": "code",
   "execution_count": 25,
   "id": "6e43c578",
   "metadata": {},
   "outputs": [
    {
     "name": "stdout",
     "output_type": "stream",
     "text": [
      "En la rama main\r\n",
      "\r\n",
      "No hay commits todavía\r\n",
      "\r\n",
      "Cambios a ser confirmados:\r\n",
      "  (usa \"git rm --cached <archivo>...\" para sacar del área de stage)\r\n",
      "\t\u001b[32mnuevos archivos: hellogit.py\u001b[m\r\n",
      "\r\n",
      "Archivos sin seguimiento:\r\n",
      "  (usa \"git add <archivo>...\" para incluirlo a lo que será confirmado)\r\n",
      "\t\u001b[31m.ipynb_checkpoints/\u001b[m\r\n",
      "\t\u001b[31mImagenes/\u001b[m\r\n",
      "\t\u001b[31mNotas Git.ipynb\u001b[m\r\n",
      "\t\u001b[31mNotas Github.ipynb\u001b[m\r\n",
      "\r\n"
     ]
    }
   ],
   "source": [
    "!git add  hellogit.py\n",
    "!git status"
   ]
  },
  {
   "cell_type": "markdown",
   "id": "15afa237",
   "metadata": {},
   "source": [
    "Notemos que ahora el fichero se agrego al stage, y que además se cambió al color verde. Una vez realizado esto, ya podemos realizar nuestra primera \"fotografia\" de este fichero. Para hacer esto utilizamos el comando commit, tal que "
   ]
  },
  {
   "cell_type": "code",
   "execution_count": 28,
   "id": "53921250",
   "metadata": {},
   "outputs": [
    {
     "name": "stdout",
     "output_type": "stream",
     "text": [
      "ayuda: Esperando que tu editor cierre el archivo ... \u001b7\u001b[?47h\u001b[>4;2m\u001b[?1h\u001b=\u001b[?2004h\u001b[?1004h\u001b[1;24r\u001b[?12h\u001b[?12l\u001b[22;2t\u001b[22;1t\u001b[29m\u001b[m\u001b[H\u001b[2J\u001b[?25l\u001b[24;1H\"~/Desktop/Programación/Git_and_Github/.git/COMMIT_EDITMSG\" 18L, 370B\u001b[2;1H▽\u001b[6n\u001b[2;1H  \u001b[3;1H\u001bPzz\u001b\\\u001b[0%m\u001b[6n\u001b[3;1H           \u001b[1;1H\u001b[>c\u001b]10;?\u0007\u001b]11;?\u0007\u001b[2;1H# Por favor ingresa el mensaje del commit para tus cambios. Las\u001b[2;64H\u001b[K\u001b[3;1H#  lí\u001b[3;6Hneas que comiencen con '#' será\u001b[3;37Hn ignoradas, y un mensaje\u001b[3;62H\u001b[K\u001b[4;1H#  vací\u001b[4;8Ho aborta el commit.\n",
      "#\n",
      "# En la rama main\n",
      "#\n",
      "# Confirmació\u001b[8;14Hn inicial\n",
      "#\n",
      "# Cambios a ser confirmados:\n",
      "#\u001b[7Cnuevos archivos: hellogit.py\n",
      "#\n",
      "# Archivos sin seguimiento:\n",
      "#\u001b[7C.ipynb_checkpoints/\n",
      "#\u001b[7CImagenes/\n",
      "#\u001b[7CNotas Git.ipynb\n",
      "#\u001b[7CNotas Github.ipynb\n",
      "#\n",
      "\u001b[1m\u001b[34m~                                                                               \u001b[20;1H~                                                                               \u001b[21;1H~                                                                               \u001b[22;1H~                                                                               \u001b[23;1H~                                                                               \u001b[1;1H\u001b[?25h\u001b[?4m\u001b[?25l\u001b[m\u001b[24;1HType  :qa  and press <Enter> to exit Vim\u001b[24;41H\u001b[K\u0007\u001b[1;1H\u001b[?25h"
     ]
    }
   ],
   "source": [
    "!git commit # Una vez corrida la celda tendra que interrumpir el kernel"
   ]
  },
  {
   "cell_type": "markdown",
   "id": "bf2bba97",
   "metadata": {},
   "source": [
    "Note que la celda se va a seguir ejecutando, y si hubieramos corrido esto directamente desde la terminal nos hubiera generado una venta nueva. Esto se debe a que no agregamos un comentario al hacer el commit, y por lo tanto no va a hacer nada hasta hacer este comentario. \n",
    "\n",
    "**Esto es un aspecto muy importante de Git, ya que nos fuerza a tener que ser muy claros de que al hacer el commit, escribamos un mensaje** \n",
    "\n",
    "Para poder escribir estos mensajes sin nesidad de abrir un editor, lo que hacemos es lo siguiente: "
   ]
  },
  {
   "cell_type": "code",
   "execution_count": 29,
   "id": "5fafc266",
   "metadata": {},
   "outputs": [
    {
     "name": "stdout",
     "output_type": "stream",
     "text": [
      "[main (commit-raíz) 9b488fd] Hice mi primer commit\r\n",
      " 1 file changed, 1 insertion(+)\r\n",
      " create mode 100644 hellogit.py\r\n"
     ]
    }
   ],
   "source": [
    "!git commit -m \"Hice mi primer commit\""
   ]
  },
  {
   "cell_type": "markdown",
   "id": "55de0e2f",
   "metadata": {},
   "source": [
    "Notemos que este nos muestra que fue lo que se cambió y el comentario que se agregó. Algo importante es que este commit se hizo en la raiz principal y que ademas nos dio el número **9b488fd**, este es un concepto importante que se llama **Hash**, el cual es un identificador único del commit que se realizó.\n",
    "\n",
    "Ahora, veamos que sucede con el estatus de nuestro git: "
   ]
  },
  {
   "cell_type": "code",
   "execution_count": 30,
   "id": "5c1e0937",
   "metadata": {},
   "outputs": [
    {
     "name": "stdout",
     "output_type": "stream",
     "text": [
      "En la rama main\r\n",
      "Archivos sin seguimiento:\r\n",
      "  (usa \"git add <archivo>...\" para incluirlo a lo que será confirmado)\r\n",
      "\t\u001b[31m.ipynb_checkpoints/\u001b[m\r\n",
      "\t\u001b[31mImagenes/\u001b[m\r\n",
      "\t\u001b[31mNotas Git.ipynb\u001b[m\r\n",
      "\t\u001b[31mNotas Github.ipynb\u001b[m\r\n",
      "\r\n",
      "no hay nada agregado al commit pero hay archivos sin seguimiento presentes (usa \"git add\" para hacerles seguimiento)\r\n"
     ]
    }
   ],
   "source": [
    "!git status"
   ]
  },
  {
   "cell_type": "markdown",
   "id": "0dbe37fc",
   "metadata": {},
   "source": [
    "Notemos que ahora nuestro fichero de python ya no aparece, y esto es porque ya hemos realizado la \"fotografia\" del mismo."
   ]
  },
  {
   "cell_type": "markdown",
   "id": "35ee6530",
   "metadata": {},
   "source": [
    "# 5. Git Log y Git Status\n",
    "\n",
    "Algo importate a concoer es que existe una libreta que guarda todos los registros de los commits que se han realizado es git log. "
   ]
  },
  {
   "cell_type": "code",
   "execution_count": 31,
   "id": "ccae423a",
   "metadata": {},
   "outputs": [
    {
     "name": "stdout",
     "output_type": "stream",
     "text": [
      "\u001b[33mcommit 9b488fd7e1e5125b125a05ded52b440f0add7072\u001b[m\u001b[33m (\u001b[m\u001b[1;36mHEAD\u001b[m\u001b[33m -> \u001b[m\u001b[1;32mmain\u001b[m\u001b[33m)\u001b[m\r\n",
      "Author: Salvador <salvadorochoa.fcfm@ms.uas.edu.mx>\r\n",
      "Date:   Fri Mar 22 13:41:38 2024 -0700\r\n",
      "\r\n",
      "    Hice mi primer commit\r\n"
     ]
    }
   ],
   "source": [
    "!git log"
   ]
  },
  {
   "cell_type": "markdown",
   "id": "ba7e1216",
   "metadata": {},
   "source": [
    "Notemos que esta nos dice el commit que se realizó, quien lo hizó, cuando lo hizó y hasta el comentario que agrego. \n",
    "\n",
    "**Nota:** Es por eso que es importante agregar el usuario y correo, ya que si no lo hicieramos directamente git no nos dejaria hacer commits. \n",
    "\n",
    "Ahora, creemos un segundo fichero de python que realice otra cosa y veamos el estatus de nuestro git."
   ]
  },
  {
   "cell_type": "code",
   "execution_count": 38,
   "id": "d043a585",
   "metadata": {},
   "outputs": [
    {
     "name": "stdout",
     "output_type": "stream",
     "text": [
      "Hola mundo 2\n",
      "-------------------------------\n",
      "En la rama main\n",
      "Archivos sin seguimiento:\n",
      "  (usa \"git add <archivo>...\" para incluirlo a lo que será confirmado)\n",
      "\t\u001b[31m.ipynb_checkpoints/\u001b[m\n",
      "\t\u001b[31mImagenes/\u001b[m\n",
      "\t\u001b[31mNotas Git.ipynb\u001b[m\n",
      "\t\u001b[31mNotas Github.ipynb\u001b[m\n",
      "\t\u001b[31mhellogit2.py\u001b[m\n",
      "\n",
      "no hay nada agregado al commit pero hay archivos sin seguimiento presentes (usa \"git add\" para hacerles seguimiento)\n"
     ]
    }
   ],
   "source": [
    "# Creamos el archivo\n",
    "!touch hellogit2.py \n",
    "\n",
    "!python hellogit2.py # Se agrego el print(\"Hola mundo 2\") a mano\n",
    "\n",
    "!echo \"-------------------------------\" # se agregó para separar los mensajes\n",
    "\n",
    "# Vemos el estatus de nuestro git\n",
    "!git status"
   ]
  },
  {
   "cell_type": "markdown",
   "id": "64ca81d5",
   "metadata": {},
   "source": [
    "Si realizamos un commit a nuestro nuevo archivo y vemos nuestro log, tendriamos lo siguiente"
   ]
  },
  {
   "cell_type": "code",
   "execution_count": 40,
   "id": "437dec4a",
   "metadata": {},
   "outputs": [
    {
     "name": "stdout",
     "output_type": "stream",
     "text": [
      "-------------------------------\n",
      "En la rama main\n",
      "Archivos sin seguimiento:\n",
      "  (usa \"git add <archivo>...\" para incluirlo a lo que será confirmado)\n",
      "\t\u001b[31m.ipynb_checkpoints/\u001b[m\n",
      "\t\u001b[31mImagenes/\u001b[m\n",
      "\t\u001b[31mNotas Git.ipynb\u001b[m\n",
      "\t\u001b[31mNotas Github.ipynb\u001b[m\n",
      "\n",
      "no hay nada agregado al commit pero hay archivos sin seguimiento presentes (usa \"git add\" para hacerles seguimiento)\n",
      "-------------------------------\n",
      "\u001b[33mcommit b91bea0add536e1c9fff05f8ee2c29ec7d19ea30\u001b[m\u001b[33m (\u001b[m\u001b[1;36mHEAD\u001b[m\u001b[33m -> \u001b[m\u001b[1;32mmain\u001b[m\u001b[33m)\u001b[m\n",
      "Author: Salvador <salvadorochoa.fcfm@ms.uas.edu.mx>\n",
      "Date:   Fri Mar 22 14:02:55 2024 -0700\n",
      "\n",
      "    Este es mi segundo commit\n",
      "\n",
      "\u001b[33mcommit 9b488fd7e1e5125b125a05ded52b440f0add7072\u001b[m\n",
      "Author: Salvador <salvadorochoa.fcfm@ms.uas.edu.mx>\n",
      "Date:   Fri Mar 22 13:41:38 2024 -0700\n",
      "\n",
      "    Hice mi primer commit\n"
     ]
    }
   ],
   "source": [
    "# Primero agregamos a stage nuestro nuevo fichero\n",
    "!git add hellogit2.py\n",
    "\n",
    "!echo \"-------------------------------\" # se agregó para separar los mensajes\n",
    "\n",
    "# Luego realizamos el commit \n",
    "!git commit -m \"Este es mi segundo commit\"\n",
    "\n",
    "!echo \"-------------------------------\" # se agregó para separar los mensajes\n",
    "\n",
    "# Por último, vemos nuestro log \n",
    "!git log"
   ]
  },
  {
   "cell_type": "markdown",
   "id": "6819fcdf",
   "metadata": {},
   "source": [
    "Con esto, lo que hemos hecho es crear una nueva moficación en nuestra rama principal. Esto graficamente seria lo siguiente: \n",
    "\n",
    "<img src=\"imagenes/Branches.jpeg\" alt=\"Texto alternativo\" style=\"width: 500px;\"/>\n",
    "\n",
    "Si realizamos ahora una modificación en el fichero hellogit.py y realizamos un git status, nos saldra lo siguiente: "
   ]
  },
  {
   "cell_type": "code",
   "execution_count": 42,
   "id": "7f38635b",
   "metadata": {},
   "outputs": [
    {
     "name": "stdout",
     "output_type": "stream",
     "text": [
      "Hola mundo\n",
      "Hemos cambiado este archivo\n",
      "-------------------------------\n",
      "En la rama main\n",
      "Cambios a ser confirmados:\n",
      "  (usa \"git restore --staged <archivo>...\" para sacar del área de stage)\n",
      "\t\u001b[32mmodificados:     hellogit.py\u001b[m\n",
      "\n",
      "Archivos sin seguimiento:\n",
      "  (usa \"git add <archivo>...\" para incluirlo a lo que será confirmado)\n",
      "\t\u001b[31m.ipynb_checkpoints/\u001b[m\n",
      "\t\u001b[31mImagenes/\u001b[m\n",
      "\t\u001b[31mNotas Git.ipynb\u001b[m\n",
      "\t\u001b[31mNotas Github.ipynb\u001b[m\n",
      "\n"
     ]
    }
   ],
   "source": [
    "# Primero corremos el fichero para mostrar que fue lo que se modifico\n",
    "!python hellogit.py\n",
    "\n",
    "!echo \"-------------------------------\" # se agregó para separar los mensajes\n",
    "\n",
    "# Luego realizamos el estatus\n",
    "!git status"
   ]
  },
  {
   "cell_type": "markdown",
   "id": "9f6b58f4",
   "metadata": {},
   "source": [
    "Observemos que el sistema nos dice que hemos modificado el archivo, y nos pregunta si quisieramos guardarlos. Esto también lo podriamos hacer con el archivo hellogit2.py, "
   ]
  },
  {
   "cell_type": "code",
   "execution_count": 43,
   "id": "2ac15384",
   "metadata": {},
   "outputs": [
    {
     "name": "stdout",
     "output_type": "stream",
     "text": [
      "Hola mundo 2222\n",
      "-------------------------------\n",
      "En la rama main\n",
      "Cambios a ser confirmados:\n",
      "  (usa \"git restore --staged <archivo>...\" para sacar del área de stage)\n",
      "\t\u001b[32mmodificados:     hellogit.py\u001b[m\n",
      "\n",
      "Cambios no rastreados para el commit:\n",
      "  (usa \"git add <archivo>...\" para actualizar lo que será confirmado)\n",
      "  (usa \"git restore <archivo>...\" para descartar los cambios en el directorio de trabajo)\n",
      "\t\u001b[31mmodificados:     hellogit2.py\u001b[m\n",
      "\n",
      "Archivos sin seguimiento:\n",
      "  (usa \"git add <archivo>...\" para incluirlo a lo que será confirmado)\n",
      "\t\u001b[31m.ipynb_checkpoints/\u001b[m\n",
      "\t\u001b[31mImagenes/\u001b[m\n",
      "\t\u001b[31mNotas Git.ipynb\u001b[m\n",
      "\t\u001b[31mNotas Github.ipynb\u001b[m\n",
      "\n"
     ]
    }
   ],
   "source": [
    "# Primero corremos el fichero para mostrar que fue lo que se modifico\n",
    "!python hellogit2.py\n",
    "\n",
    "!echo \"-------------------------------\" # se agregó para separar los mensajes\n",
    "\n",
    "# Luego realizamos el estatus\n",
    "!git status"
   ]
  },
  {
   "cell_type": "markdown",
   "id": "6c737c5e",
   "metadata": {},
   "source": [
    "Pero, ¿qué pasaria si en realidad no quisieramos gaurdar estos cambios y quisieramos dejarlo como antes?"
   ]
  },
  {
   "cell_type": "markdown",
   "id": "090226cf",
   "metadata": {},
   "source": [
    "# 6. Git Checkout\n",
    "\n",
    "La respuesta a la pregunta es el comando git checkout, y es que podemos volver a las versiones anteriores siempre y cuando no realizaramos un commit del archivo que modificamos. Por ejemplo, tomemos el arhivo hellogit2.py, "
   ]
  },
  {
   "cell_type": "code",
   "execution_count": 44,
   "id": "c0aff781",
   "metadata": {},
   "outputs": [
    {
     "name": "stdout",
     "output_type": "stream",
     "text": [
      "Actualizada 1 ruta desde el índice\r\n"
     ]
    }
   ],
   "source": [
    "!git checkout hellogit2.py"
   ]
  },
  {
   "cell_type": "markdown",
   "id": "9ed5c683",
   "metadata": {},
   "source": [
    "Ahora, veamos que volvio a su versión anterior "
   ]
  },
  {
   "cell_type": "code",
   "execution_count": 45,
   "id": "a8ee7518",
   "metadata": {},
   "outputs": [
    {
     "name": "stdout",
     "output_type": "stream",
     "text": [
      "Hola mundo 2\r\n"
     ]
    }
   ],
   "source": [
    "# Verificar que el fichero a su versión anterior\n",
    "!python hellogit2.py"
   ]
  },
  {
   "cell_type": "markdown",
   "id": "d8ba3af1",
   "metadata": {},
   "source": [
    "Lo mismo podriamos hacer con el archivo hellogit.py: "
   ]
  },
  {
   "cell_type": "code",
   "execution_count": 51,
   "id": "786597a3",
   "metadata": {
    "scrolled": true
   },
   "outputs": [
    {
     "name": "stdout",
     "output_type": "stream",
     "text": [
      "Actualizada 1 ruta desde el índice\n",
      "-------------------------------\n",
      "Hola mundo\n"
     ]
    }
   ],
   "source": [
    "# Vamos a regresar a la versión anterior de este archivo \n",
    "!git checkout hellogit.py \n",
    "\n",
    "!echo \"-------------------------------\" # se agregó para separar los mensajes\n",
    "\n",
    "# Mostraremos que se volvió a la versión original\n",
    "!python hellogit.py"
   ]
  },
  {
   "cell_type": "markdown",
   "id": "6149980c",
   "metadata": {},
   "source": [
    "# 7. Git Log: Visualización"
   ]
  },
  {
   "cell_type": "markdown",
   "id": "1e51fb59",
   "metadata": {},
   "source": [
    "Ahora, volvamos a realizar un pequeño cambio en el archivo hellogit.py y realicemos un commit del mismo. "
   ]
  },
  {
   "cell_type": "code",
   "execution_count": 53,
   "id": "78e96b2f",
   "metadata": {},
   "outputs": [
    {
     "name": "stdout",
     "output_type": "stream",
     "text": [
      "Nuevo Hola mundo\n",
      "-------------------------------\n",
      "En la rama main\n",
      "Archivos sin seguimiento:\n",
      "  (usa \"git add <archivo>...\" para incluirlo a lo que será confirmado)\n",
      "\t\u001b[31m.ipynb_checkpoints/\u001b[m\n",
      "\t\u001b[31mImagenes/\u001b[m\n",
      "\t\u001b[31mNotas Git.ipynb\u001b[m\n",
      "\t\u001b[31mNotas Github.ipynb\u001b[m\n",
      "\n",
      "no hay nada agregado al commit pero hay archivos sin seguimiento presentes (usa \"git add\" para hacerles seguimiento)\n",
      "-------------------------------\n",
      "\u001b[33mcommit a50e18f155b1205e7e2b18034dc9701151f8abcf\u001b[m\u001b[33m (\u001b[m\u001b[1;36mHEAD\u001b[m\u001b[33m -> \u001b[m\u001b[1;32mmain\u001b[m\u001b[33m)\u001b[m\n",
      "Author: Salvador <salvadorochoa.fcfm@ms.uas.edu.mx>\n",
      "Date:   Fri Mar 22 14:37:47 2024 -0700\n",
      "\n",
      "    Se actualizó el texto del print\n",
      "\n",
      "\u001b[33mcommit b91bea0add536e1c9fff05f8ee2c29ec7d19ea30\u001b[m\n",
      "Author: Salvador <salvadorochoa.fcfm@ms.uas.edu.mx>\n",
      "Date:   Fri Mar 22 14:02:55 2024 -0700\n",
      "\n",
      "    Este es mi segundo commit\n",
      "\n",
      "\u001b[33mcommit 9b488fd7e1e5125b125a05ded52b440f0add7072\u001b[m\n",
      "Author: Salvador <salvadorochoa.fcfm@ms.uas.edu.mx>\n",
      "Date:   Fri Mar 22 13:41:38 2024 -0700\n",
      "\n",
      "    Hice mi primer commit\n"
     ]
    }
   ],
   "source": [
    "# Primero mostraremos el nuevo cambio que se realizó \n",
    "!python hellogit.py \n",
    "\n",
    "!echo \"-------------------------------\" # se agregó para separar los mensajes\n",
    "\n",
    "# Se realiza el add y el commit \n",
    "!git add hellogit.py\n",
    "!git commit -m \"Se actualizó el texto del print\"\n",
    "\n",
    "\n",
    "!echo \"-------------------------------\" # se agregó para separar los mensajes\n",
    "\n",
    "# Veamos entonces el nuevo log de nuestro repositorio\n",
    "!git log"
   ]
  },
  {
   "cell_type": "markdown",
   "id": "52f97f01",
   "metadata": {},
   "source": [
    "Veamos que ahora ya tenemos varios cambios en nuestra libreta. Algo interesante es que podemos ver de varias formas nuestro git log, por ejemplo, podemos verlo como un gráfico de la siguiente manera: "
   ]
  },
  {
   "cell_type": "code",
   "execution_count": 54,
   "id": "4c2be308",
   "metadata": {},
   "outputs": [
    {
     "name": "stdout",
     "output_type": "stream",
     "text": [
      "* \u001b[33mcommit a50e18f155b1205e7e2b18034dc9701151f8abcf\u001b[m\u001b[33m (\u001b[m\u001b[1;36mHEAD\u001b[m\u001b[33m -> \u001b[m\u001b[1;32mmain\u001b[m\u001b[33m)\u001b[m\r\n",
      "\u001b[31m|\u001b[m Author: Salvador <salvadorochoa.fcfm@ms.uas.edu.mx>\r\n",
      "\u001b[31m|\u001b[m Date:   Fri Mar 22 14:37:47 2024 -0700\r\n",
      "\u001b[31m|\u001b[m \r\n",
      "\u001b[31m|\u001b[m     Se actualizó el texto del print\r\n",
      "\u001b[31m|\u001b[m \r\n",
      "* \u001b[33mcommit b91bea0add536e1c9fff05f8ee2c29ec7d19ea30\u001b[m\r\n",
      "\u001b[31m|\u001b[m Author: Salvador <salvadorochoa.fcfm@ms.uas.edu.mx>\r\n",
      "\u001b[31m|\u001b[m Date:   Fri Mar 22 14:02:55 2024 -0700\r\n",
      "\u001b[31m|\u001b[m \r\n",
      "\u001b[31m|\u001b[m     Este es mi segundo commit\r\n",
      "\u001b[31m|\u001b[m \r\n",
      "* \u001b[33mcommit 9b488fd7e1e5125b125a05ded52b440f0add7072\u001b[m\r\n",
      "  Author: Salvador <salvadorochoa.fcfm@ms.uas.edu.mx>\r\n",
      "  Date:   Fri Mar 22 13:41:38 2024 -0700\r\n",
      "  \r\n",
      "      Hice mi primer commit\r\n"
     ]
    }
   ],
   "source": [
    "# Mostra un gráfico de nuestro log \n",
    "!git log --graph"
   ]
  },
  {
   "cell_type": "markdown",
   "id": "bd8920b4",
   "metadata": {},
   "source": [
    "También podriamos ver solo en una linea los commit que se han realizado tal que o hasta quitar los mismos hash: "
   ]
  },
  {
   "cell_type": "code",
   "execution_count": 57,
   "id": "f5c9f28e",
   "metadata": {},
   "outputs": [
    {
     "name": "stdout",
     "output_type": "stream",
     "text": [
      "* \u001b[33ma50e18f155b1205e7e2b18034dc9701151f8abcf\u001b[m\u001b[33m (\u001b[m\u001b[1;36mHEAD\u001b[m\u001b[33m -> \u001b[m\u001b[1;32mmain\u001b[m\u001b[33m)\u001b[m Se actualizó el texto del print\n",
      "* \u001b[33mb91bea0add536e1c9fff05f8ee2c29ec7d19ea30\u001b[m Este es mi segundo commit\n",
      "* \u001b[33m9b488fd7e1e5125b125a05ded52b440f0add7072\u001b[m Hice mi primer commit\n",
      "-------------------------------------------\n",
      "* \u001b[33ma50e18f\u001b[m\u001b[33m (\u001b[m\u001b[1;36mHEAD\u001b[m\u001b[33m -> \u001b[m\u001b[1;32mmain\u001b[m\u001b[33m)\u001b[m Se actualizó el texto del print\n",
      "* \u001b[33mb91bea0\u001b[m Este es mi segundo commit\n",
      "* \u001b[33m9b488fd\u001b[m Hice mi primer commit\n"
     ]
    }
   ],
   "source": [
    "# Ver los commits en una sola linea \n",
    "!git log --graph --pretty=oneline\n",
    "\n",
    "\n",
    "!echo \"-------------------------------------------\" # se agregó para separar los mensajes\n",
    "\n",
    "# Ver los commits en un sola linea y quitar los hash\n",
    "!git log --graph --decorate --all --oneline"
   ]
  },
  {
   "cell_type": "markdown",
   "id": "bdc28a2a",
   "metadata": {},
   "source": [
    "# 8. Git Alias\n",
    "\n",
    "El Git Alias es una forma de como guardar una serie de pasos que queremos que se realicen con git en un solo comando. Por ejemplo, un comando que nos gustaria guardar seria justo el anterior que utilizamos, el cual es algo largo y podria ser que no nos acordemos de como escribirlo. Para ellos, hacemos lo siguiente: "
   ]
  },
  {
   "cell_type": "code",
   "execution_count": 58,
   "id": "a0d7e56d",
   "metadata": {},
   "outputs": [],
   "source": [
    "# Crearemos el comando con el nombre tree  \n",
    "!git config --global alias.tree \"log --graph --decorate --all --oneline\""
   ]
  },
  {
   "cell_type": "markdown",
   "id": "bd9e8fd0",
   "metadata": {},
   "source": [
    "Estos comando se guardaran en un fichero oculto de Git. Ahora veamos lo que hace: "
   ]
  },
  {
   "cell_type": "code",
   "execution_count": 59,
   "id": "67a782fe",
   "metadata": {},
   "outputs": [
    {
     "name": "stdout",
     "output_type": "stream",
     "text": [
      "* \u001b[33ma50e18f\u001b[m\u001b[33m (\u001b[m\u001b[1;36mHEAD\u001b[m\u001b[33m -> \u001b[m\u001b[1;32mmain\u001b[m\u001b[33m)\u001b[m Se actualizó el texto del print\r\n",
      "* \u001b[33mb91bea0\u001b[m Este es mi segundo commit\r\n",
      "* \u001b[33m9b488fd\u001b[m Hice mi primer commit\r\n"
     ]
    }
   ],
   "source": [
    "!git tree"
   ]
  },
  {
   "cell_type": "markdown",
   "id": "64b2f001",
   "metadata": {},
   "source": [
    "Esto es muy util cuando sabemos que tipo de comandos usamos de manera frecuente, y queremos automatizar algun proceso que realicemos. "
   ]
  },
  {
   "cell_type": "markdown",
   "id": "f3f24aa1",
   "metadata": {},
   "source": [
    "# 9. Gitignore\n",
    "\n",
    "Ahora, veamos que cuando realizamos un commit apareceran todos los archivos en el directorio, y sera posible que ciertos archivos nunca nos interecen modificar. La manera de quitar estos archivos es usando un fichero **.gitignore**, el cual si nosotros escribimos en el ****/.nombre del archivo**, esto ya no saldran y lo unico que aparecera sera el **.gitignore**. Pongamos esto en pratica:"
   ]
  },
  {
   "cell_type": "code",
   "execution_count": 60,
   "id": "3c28abd0",
   "metadata": {},
   "outputs": [
    {
     "name": "stdout",
     "output_type": "stream",
     "text": [
      "En la rama main\r\n",
      "Archivos sin seguimiento:\r\n",
      "  (usa \"git add <archivo>...\" para incluirlo a lo que será confirmado)\r\n",
      "\t\u001b[31m.ipynb_checkpoints/\u001b[m\r\n",
      "\t\u001b[31mImagenes/\u001b[m\r\n",
      "\t\u001b[31mNotas Git.ipynb\u001b[m\r\n",
      "\t\u001b[31mNotas Github.ipynb\u001b[m\r\n",
      "\r\n",
      "no hay nada agregado al commit pero hay archivos sin seguimiento presentes (usa \"git add\" para hacerles seguimiento)\r\n"
     ]
    }
   ],
   "source": [
    "!git status"
   ]
  },
  {
   "cell_type": "markdown",
   "id": "52418637",
   "metadata": {},
   "source": [
    "Notemos que siempre nos aparece el archivo **.ipynb_checkpoints**, el cual jupyter notebook crea como un fichero oculto e internamente lo utiliza. Este fichero nos interesaría entonces que no apareciera, por lo que"
   ]
  },
  {
   "cell_type": "code",
   "execution_count": 62,
   "id": "7d965180",
   "metadata": {},
   "outputs": [],
   "source": [
    "# Creamos el fichero .gitignore \n",
    "!touch .gitignore "
   ]
  },
  {
   "cell_type": "markdown",
   "id": "67c956f1",
   "metadata": {},
   "source": [
    "Ahora, si dentro de este agregamos  ****/.ipynb_checkpoints**, veremos que este ya no aparecera y en cambio seria ahora el archivo .gitignore"
   ]
  },
  {
   "cell_type": "code",
   "execution_count": 1,
   "id": "2cb7345a",
   "metadata": {},
   "outputs": [
    {
     "name": "stdout",
     "output_type": "stream",
     "text": [
      "En la rama main\r\n",
      "Archivos sin seguimiento:\r\n",
      "  (usa \"git add <archivo>...\" para incluirlo a lo que será confirmado)\r\n",
      "\t\u001b[31m.gitignore\u001b[m\r\n",
      "\t\u001b[31mImagenes/\u001b[m\r\n",
      "\t\u001b[31mNotas Git.ipynb\u001b[m\r\n",
      "\t\u001b[31mNotas Github.ipynb\u001b[m\r\n",
      "\t\u001b[31mtempCodeRunnerFile.ipynb\u001b[m\r\n",
      "\r\n",
      "no hay nada agregado al commit pero hay archivos sin seguimiento presentes (usa \"git add\" para hacerles seguimiento)\r\n"
     ]
    }
   ],
   "source": [
    "!git status"
   ]
  },
  {
   "cell_type": "markdown",
   "id": "1ddd2759",
   "metadata": {},
   "source": [
    "Ahora, vamos a agregar nuestro **.gitignore** a un commit. "
   ]
  },
  {
   "cell_type": "code",
   "execution_count": 2,
   "id": "bf8ee142",
   "metadata": {},
   "outputs": [
    {
     "name": "stdout",
     "output_type": "stream",
     "text": [
      "[main fc4774a] se añadió el .gitignore\n",
      " 1 file changed, 1 insertion(+)\n",
      " create mode 100644 .gitignore\n",
      "----------------------------\n",
      "En la rama main\n",
      "Archivos sin seguimiento:\n",
      "  (usa \"git add <archivo>...\" para incluirlo a lo que será confirmado)\n",
      "\t\u001b[31mImagenes/\u001b[m\n",
      "\t\u001b[31mNotas Git.ipynb\u001b[m\n",
      "\t\u001b[31mNotas Github.ipynb\u001b[m\n",
      "\t\u001b[31mtempCodeRunnerFile.ipynb\u001b[m\n",
      "\n",
      "no hay nada agregado al commit pero hay archivos sin seguimiento presentes (usa \"git add\" para hacerles seguimiento)\n"
     ]
    }
   ],
   "source": [
    "# Vamos a agregar gitignore \n",
    "!git add .gitignore\n",
    "!git commit -m \"se añadió el .gitignore\"\n",
    "\n",
    "!echo \"----------------------------\" # Se agregó para separar los comandos\n",
    "\n",
    "# Checaremos si ya no aparece el archivo \n",
    "!git status"
   ]
  },
  {
   "cell_type": "markdown",
   "id": "2f4c0382",
   "metadata": {},
   "source": [
    "# 10. Git Diff\n",
    "\n",
    "Muchas veces querremos ver que lineas de código hemos cambiado pero sin necesidad de realizar un commit. Para ello existe el comando **git diff**, el cual nos monstrara con <span style=\"color:red;\">rojo las lineas que han desaparecido</span> y <span style=\"color:green;\">verde cuales se han agregado</span>  en el fichero que nos interese. Por ejemplo, modifiquemos el archivo hellogit.py, de la siguiente manera "
   ]
  },
  {
   "cell_type": "code",
   "execution_count": 20,
   "id": "2dfbc307",
   "metadata": {},
   "outputs": [
    {
     "name": "stdout",
     "output_type": "stream",
     "text": [
      "Nuevo Hola mundo\r\n"
     ]
    }
   ],
   "source": [
    "# Primero veamos que se mostraba antes en este fichero \n",
    "!python hellogit.py"
   ]
  },
  {
   "cell_type": "code",
   "execution_count": 22,
   "id": "dbb5f138",
   "metadata": {},
   "outputs": [
    {
     "name": "stdout",
     "output_type": "stream",
     "text": [
      "Nuevo Hola mundo\r\n"
     ]
    }
   ],
   "source": [
    "# Ahora, mostraremos que es lo que hemos modificado \n",
    "!python hellogit.py"
   ]
  },
  {
   "cell_type": "markdown",
   "id": "dba3a55c",
   "metadata": {},
   "source": [
    "Lo que hemos hecho fue cambiar el *print(\"Nuevo Hola mundo\")* por la línea *print(\"Nuevo Hola mundo con algunos cambios\")*. Veamos entonces estos cambios directamente con git: "
   ]
  },
  {
   "cell_type": "code",
   "execution_count": 5,
   "id": "4bf9b775",
   "metadata": {},
   "outputs": [
    {
     "name": "stdout",
     "output_type": "stream",
     "text": [
      "\u001b[1mdiff --git a/hellogit.py b/hellogit.py\u001b[m\r\n",
      "\u001b[1mindex 24de8a6..0682d04 100644\u001b[m\r\n",
      "\u001b[1m--- a/hellogit.py\u001b[m\r\n",
      "\u001b[1m+++ b/hellogit.py\u001b[m\r\n",
      "\u001b[36m@@ -1 +1 @@\u001b[m\r\n",
      "\u001b[31m-print(\"Nuevo Hola mundo\")\u001b[m\r\n",
      "\\ No newline at end of file\u001b[m\r\n",
      "\u001b[32m+\u001b[m\u001b[32mprint(\"Nuevo Hola mundo con algunos cambios\")\u001b[m\r\n",
      "\\ No newline at end of file\u001b[m\r\n"
     ]
    }
   ],
   "source": [
    "!git diff"
   ]
  },
  {
   "cell_type": "markdown",
   "id": "3ead6a83",
   "metadata": {},
   "source": [
    "# 11. Desplazamiento \n",
    "\n",
    "Ahora, algo muy importante sobre Git, es que nos podemos mover entre las fotografias que hemos tomado en nuestro proyecto. Por ejemplo, recordemos nuestra bitacora de commits "
   ]
  },
  {
   "cell_type": "code",
   "execution_count": 6,
   "id": "25a4f623",
   "metadata": {},
   "outputs": [
    {
     "name": "stdout",
     "output_type": "stream",
     "text": [
      "\u001b[33mcommit fc4774aec1da67ccde35dd874554a843c9b74c44\u001b[m\u001b[33m (\u001b[m\u001b[1;36mHEAD\u001b[m\u001b[33m -> \u001b[m\u001b[1;32mmain\u001b[m\u001b[33m)\u001b[m\r\n",
      "Author: Salvador <salvadorochoa.fcfm@ms.uas.edu.mx>\r\n",
      "Date:   Sun Mar 24 16:22:14 2024 -0700\r\n",
      "\r\n",
      "    se añadió el .gitignore\r\n",
      "\r\n",
      "\u001b[33mcommit a50e18f155b1205e7e2b18034dc9701151f8abcf\u001b[m\r\n",
      "Author: Salvador <salvadorochoa.fcfm@ms.uas.edu.mx>\r\n",
      "Date:   Fri Mar 22 14:37:47 2024 -0700\r\n",
      "\r\n",
      "    Se actualizó el texto del print\r\n",
      "\r\n",
      "\u001b[33mcommit b91bea0add536e1c9fff05f8ee2c29ec7d19ea30\u001b[m\r\n",
      "Author: Salvador <salvadorochoa.fcfm@ms.uas.edu.mx>\r\n",
      "Date:   Fri Mar 22 14:02:55 2024 -0700\r\n",
      "\r\n",
      "    Este es mi segundo commit\r\n",
      "\r\n",
      "\u001b[33mcommit 9b488fd7e1e5125b125a05ded52b440f0add7072\u001b[m\r\n",
      "Author: Salvador <salvadorochoa.fcfm@ms.uas.edu.mx>\r\n",
      "Date:   Fri Mar 22 13:41:38 2024 -0700\r\n",
      "\r\n",
      "    Hice mi primer commit\r\n"
     ]
    }
   ],
   "source": [
    "!git log"
   ]
  },
  {
   "cell_type": "markdown",
   "id": "8f418f53",
   "metadata": {},
   "source": [
    "Observemos que en este momento nos ubicamos en el último commit, y esto lo sabemos ya que el **HEAD** aparece en este. Supongamos que por alguna razón queremos volver a nuestro primer commit. Para poder hacer esto lo que tenemos que hacer es usar el comando git checkout < Hash >: "
   ]
  },
  {
   "cell_type": "code",
   "execution_count": 18,
   "id": "f0c29038",
   "metadata": {},
   "outputs": [
    {
     "name": "stdout",
     "output_type": "stream",
     "text": [
      "La posición previa de HEAD era fc4774a se añadió el .gitignore\r\n",
      "HEAD está ahora en 9b488fd Hice mi primer commit\r\n"
     ]
    }
   ],
   "source": [
    "# En mi caso el hash del primer commit es 9b488fd7e1e5125b125a05ded52b440f0add7072 \n",
    "!git checkout 9b488fd7e1e5125b125a05ded52b440f0add7072 "
   ]
  },
  {
   "cell_type": "markdown",
   "id": "bef03d31",
   "metadata": {},
   "source": [
    "Veamos que no nos dejo movernos, esto se debe a que Git tiene un candado donde antes de moverte te pide ya sea guardar los cambios que hiciste con un commit o deshacerlos. En nuestro caso, vamos a deshacer estos cambios.  "
   ]
  },
  {
   "cell_type": "code",
   "execution_count": 8,
   "id": "317c1d79",
   "metadata": {},
   "outputs": [
    {
     "name": "stdout",
     "output_type": "stream",
     "text": [
      "Actualizada 1 ruta desde el índice\n",
      "Nota: cambiando a '9b488fd7e1e5125b125a05ded52b440f0add7072'.\n",
      "\n",
      "Te encuentras en estado 'detached HEAD'. Puedes revisar por aquí, hacer\n",
      "cambios experimentales y hacer commits, y puedes descartar cualquier\n",
      "commit que hayas hecho en este estado sin impactar a tu rama realizando\n",
      "otro checkout.\n",
      "\n",
      "Si quieres crear una nueva rama para mantener los commits que has creado,\n",
      "puedes hacerlo (ahora o después) usando -c con el comando checkout. Ejemplo:\n",
      "\n",
      "  git switch -c <nombre-de-nueva-rama>\n",
      "\n",
      "O deshacer la operación con:\n",
      "\n",
      "  git switch -\n",
      "\n",
      "Desactiva este aviso poniendo la variable de config advice.detachedHead en false\n",
      "\n",
      "HEAD está ahora en 9b488fd Hice mi primer commit\n"
     ]
    }
   ],
   "source": [
    "# Primero deshacemos los cambios en el fichero hellogit.py \n",
    "!git checkout hellogit.py \n",
    "\n",
    "# Ahora vamos a movernos al primer commit \n",
    "!git checkout 9b488fd7e1e5125b125a05ded52b440f0add7072 "
   ]
  },
  {
   "cell_type": "markdown",
   "id": "75b2df60",
   "metadata": {},
   "source": [
    "Ahora, veamos que archivos son los que podemos encontrar en este punto: "
   ]
  },
  {
   "cell_type": "code",
   "execution_count": 9,
   "id": "bc96e0d8",
   "metadata": {},
   "outputs": [
    {
     "name": "stdout",
     "output_type": "stream",
     "text": [
      "\u001b[34mImagenes\u001b[m\u001b[m                 Notas Github.ipynb       tempCodeRunnerFile.ipynb\r\n",
      "Notas Git.ipynb          hellogit.py\r\n"
     ]
    }
   ],
   "source": [
    "!ls"
   ]
  },
  {
   "cell_type": "markdown",
   "id": "18f58f5b",
   "metadata": {},
   "source": [
    "Notemos que algunos archivos han desaparecido como era **.gitignore** o **hellogit2.py** y que con ello podriamos pensar que los perdimos. La verdad es que no, estos archivos estan guardados, solo que git se encarga que guardarlos de alguna forma que hace carpetas ocultas con las fotografias que tomamos. \n",
    "\n",
    "Ahora, veamos donde nos ubicamos en git tree (comando que creamos antes)"
   ]
  },
  {
   "cell_type": "code",
   "execution_count": 16,
   "id": "f23a3482",
   "metadata": {},
   "outputs": [
    {
     "name": "stdout",
     "output_type": "stream",
     "text": [
      "* \u001b[33mfc4774a\u001b[m\u001b[33m (\u001b[m\u001b[1;32mmain\u001b[m\u001b[33m)\u001b[m se añadió el .gitignore\r\n",
      "* \u001b[33ma50e18f\u001b[m Se actualizó el texto del print\r\n",
      "* \u001b[33mb91bea0\u001b[m Este es mi segundo commit\r\n",
      "* \u001b[33m9b488fd\u001b[m\u001b[33m (\u001b[m\u001b[1;36mHEAD\u001b[m\u001b[33m)\u001b[m Hice mi primer commit\r\n"
     ]
    }
   ],
   "source": [
    "!git tree"
   ]
  },
  {
   "cell_type": "markdown",
   "id": "02943fb8",
   "metadata": {},
   "source": [
    "Notemos que nuestro HEAD se encuentra en el primer commit, es por ello que si corremos el comando git log, solo nos aparecera este. Si quisieramos regresar al último commit, solo copiamos el hash de este: "
   ]
  },
  {
   "cell_type": "code",
   "execution_count": 26,
   "id": "b81a771f",
   "metadata": {},
   "outputs": [
    {
     "name": "stdout",
     "output_type": "stream",
     "text": [
      "HEAD está ahora en fc4774a se añadió el .gitignore\n",
      "--------------------------------------------------\n",
      "* \u001b[33mfc4774a\u001b[m\u001b[33m (\u001b[m\u001b[1;36mHEAD\u001b[m\u001b[33m, \u001b[m\u001b[1;32mmain\u001b[m\u001b[33m)\u001b[m se añadió el .gitignore\n",
      "* \u001b[33ma50e18f\u001b[m Se actualizó el texto del print\n",
      "* \u001b[33mb91bea0\u001b[m Este es mi segundo commit\n",
      "* \u001b[33m9b488fd\u001b[m Hice mi primer commit\n"
     ]
    }
   ],
   "source": [
    "# En este caso podemos solo copiar el hash fc4774a y git lo va a identificar. \n",
    "# Cuando introduzcamos las ramas las cosas cambiaran un poco  \n",
    "!git checkout fc4774a\n",
    "\n",
    "!echo \"--------------------------------------------------\"\n",
    "\n",
    "# Veamos ahora donde esta nuestro HEAD \n",
    "!git tree "
   ]
  },
  {
   "cell_type": "markdown",
   "id": "0ceaa8e5",
   "metadata": {},
   "source": [
    "# 12. Git Reset Hard y Reflog\n",
    "\n",
    "Además del Git checkout, tenemos el git reset. Este lo que hace es funcionar muy parecido al checkout, solo que una vez que lo realizamos, no va a \"guardar\" lo que teniamos antes. \n",
    "\n",
    "**Nota:** Git nunca borra las cosas que ya le hemos hecho commit, pronto veremos que es esto. \n",
    "\n",
    "Ahora, el git reset --hard lo que hace es forzar no importa que el reset. Veamos un ejemplo de ello: "
   ]
  },
  {
   "cell_type": "code",
   "execution_count": 31,
   "id": "385091dd",
   "metadata": {},
   "outputs": [
    {
     "name": "stdout",
     "output_type": "stream",
     "text": [
      "HEAD está ahora en b91bea0 Este es mi segundo commit\n",
      "---------------------------------------\n",
      "* \u001b[33mcommit b91bea0add536e1c9fff05f8ee2c29ec7d19ea30\u001b[m\u001b[33m (\u001b[m\u001b[1;36mHEAD\u001b[m\u001b[33m)\u001b[m\n",
      "\u001b[31m|\u001b[m Author: Salvador <salvadorochoa.fcfm@ms.uas.edu.mx>\n",
      "\u001b[31m|\u001b[m Date:   Fri Mar 22 14:02:55 2024 -0700\n",
      "\u001b[31m|\u001b[m \n",
      "\u001b[31m|\u001b[m     Este es mi segundo commit\n",
      "\u001b[31m|\u001b[m \n",
      "* \u001b[33mcommit 9b488fd7e1e5125b125a05ded52b440f0add7072\u001b[m\n",
      "  Author: Salvador <salvadorochoa.fcfm@ms.uas.edu.mx>\n",
      "  Date:   Fri Mar 22 13:41:38 2024 -0700\n",
      "  \n",
      "      Hice mi primer commit\n",
      "----------------------------------------\n",
      "\u001b[34mImagenes\u001b[m\u001b[m                 Notas Github.ipynb       hellogit2.py\n",
      "Notas Git.ipynb          hellogit.py              tempCodeRunnerFile.ipynb\n"
     ]
    }
   ],
   "source": [
    "# Primero, vamos a movernos al segundo commit \n",
    "!git reset --hard b91bea0\n",
    "\n",
    "!echo \"---------------------------------------\"\n",
    "\n",
    "# Ahora veamos nuestro git tree\n",
    "!git log --graph\n",
    "\n",
    "!echo \"----------------------------------------\"\n",
    "!ls"
   ]
  },
  {
   "cell_type": "markdown",
   "id": "251681bb",
   "metadata": {},
   "source": [
    "Supongamos que nos equivocamos con este git reset y quisieramos recuperar lo que reseteamos. Primero, algo importante es que aunque en nuestra bitacora de git log pareciera que ya no tenemos los commits que borramos, podemos acceder a una bitacora aún mas completa las cual nos guardas hasta los chekout que hemos realizado. \n",
    "\n",
    "Esta bitacora es el **git reflog:**"
   ]
  },
  {
   "cell_type": "code",
   "execution_count": 32,
   "id": "e4706f6c",
   "metadata": {},
   "outputs": [
    {
     "name": "stdout",
     "output_type": "stream",
     "text": [
      "\u001b[33mb91bea0\u001b[m\u001b[33m (\u001b[m\u001b[1;36mHEAD\u001b[m\u001b[33m)\u001b[m HEAD@{0}: reset: moving to b91bea0\r\n",
      "\u001b[33mfc4774a\u001b[m\u001b[33m (\u001b[m\u001b[1;32mmain\u001b[m\u001b[33m)\u001b[m HEAD@{1}: checkout: moving from 9b488fd7e1e5125b125a05ded52b440f0add7072 to fc4774a\r\n",
      "\u001b[33m9b488fd\u001b[m HEAD@{2}: checkout: moving from fc4774aec1da67ccde35dd874554a843c9b74c44 to 9b488fd7e1e5125b125a05ded52b440f0add7072\r\n",
      "\u001b[33mfc4774a\u001b[m\u001b[33m (\u001b[m\u001b[1;32mmain\u001b[m\u001b[33m)\u001b[m HEAD@{3}: checkout: moving from 9b488fd7e1e5125b125a05ded52b440f0add7072 to fc4774a\r\n",
      "\u001b[33m9b488fd\u001b[m HEAD@{4}: checkout: moving from main to 9b488fd7e1e5125b125a05ded52b440f0add7072\r\n",
      "\u001b[33mfc4774a\u001b[m\u001b[33m (\u001b[m\u001b[1;32mmain\u001b[m\u001b[33m)\u001b[m HEAD@{5}: commit: se añadió el .gitignore\r\n",
      "\u001b[33ma50e18f\u001b[m HEAD@{6}: commit: Se actualizó el texto del print\r\n",
      "\u001b[33mb91bea0\u001b[m\u001b[33m (\u001b[m\u001b[1;36mHEAD\u001b[m\u001b[33m)\u001b[m HEAD@{7}: reset: moving to HEAD\r\n",
      "\u001b[33mb91bea0\u001b[m\u001b[33m (\u001b[m\u001b[1;36mHEAD\u001b[m\u001b[33m)\u001b[m HEAD@{8}: commit: Este es mi segundo commit\r\n",
      "\u001b[33m9b488fd\u001b[m HEAD@{9}: commit (initial): Hice mi primer commit\r\n"
     ]
    }
   ],
   "source": [
    "# Nuestra bitacora completa \n",
    "!git reflog"
   ]
  },
  {
   "cell_type": "markdown",
   "id": "653872ab",
   "metadata": {},
   "source": [
    "Ahora, con esta bitacora mas detallada ya tengo el hash para poder volver a la situación inicial. "
   ]
  },
  {
   "cell_type": "code",
   "execution_count": 33,
   "id": "fc05ad63",
   "metadata": {},
   "outputs": [
    {
     "name": "stdout",
     "output_type": "stream",
     "text": [
      "HEAD está ahora en fc4774a se añadió el .gitignore\n",
      "---------------------------------------------------------\n",
      "\u001b[33mcommit fc4774aec1da67ccde35dd874554a843c9b74c44\u001b[m\u001b[33m (\u001b[m\u001b[1;36mHEAD\u001b[m\u001b[33m, \u001b[m\u001b[1;32mmain\u001b[m\u001b[33m)\u001b[m\n",
      "Author: Salvador <salvadorochoa.fcfm@ms.uas.edu.mx>\n",
      "Date:   Sun Mar 24 16:22:14 2024 -0700\n",
      "\n",
      "    se añadió el .gitignore\n",
      "\n",
      "\u001b[33mcommit a50e18f155b1205e7e2b18034dc9701151f8abcf\u001b[m\n",
      "Author: Salvador <salvadorochoa.fcfm@ms.uas.edu.mx>\n",
      "Date:   Fri Mar 22 14:37:47 2024 -0700\n",
      "\n",
      "    Se actualizó el texto del print\n",
      "\n",
      "\u001b[33mcommit b91bea0add536e1c9fff05f8ee2c29ec7d19ea30\u001b[m\n",
      "Author: Salvador <salvadorochoa.fcfm@ms.uas.edu.mx>\n",
      "Date:   Fri Mar 22 14:02:55 2024 -0700\n",
      "\n",
      "    Este es mi segundo commit\n",
      "\n",
      "\u001b[33mcommit 9b488fd7e1e5125b125a05ded52b440f0add7072\u001b[m\n",
      "Author: Salvador <salvadorochoa.fcfm@ms.uas.edu.mx>\n",
      "Date:   Fri Mar 22 13:41:38 2024 -0700\n",
      "\n",
      "    Hice mi primer commit\n"
     ]
    }
   ],
   "source": [
    "# En mi caso, para volver a la situación inicial necesito el hash fc4774a \n",
    "!git reset --hard fc4774a \n",
    "\n",
    "!echo \"---------------------------------------------------------\"\n",
    "\n",
    "# Vamos a mostrar que volvimos al log original \n",
    "!git log "
   ]
  },
  {
   "cell_type": "markdown",
   "id": "a0d9d128",
   "metadata": {},
   "source": [
    "# 13. Git Tag\n",
    "\n",
    "Supongamos que hemos realizado algunos commits importantes, por ejemplo, algún commit donde queremos marcar que el archivo representa alguna versión importante o algo por el estilo. Entonces lo que hacemos es usar el **Git Tag**, el cual le pone una marca al commit que hemos realizado. \n",
    "\n",
    "Vamos a marcar por ejemplo, el último commit que hemos hecho hoy: "
   ]
  },
  {
   "cell_type": "code",
   "execution_count": 34,
   "id": "7953a761",
   "metadata": {},
   "outputs": [],
   "source": [
    "# Como buena practica, poner todo con minuscula y unir con _\n",
    "!git tag git_day_1"
   ]
  },
  {
   "cell_type": "markdown",
   "id": "b21371f1",
   "metadata": {},
   "source": [
    "Pareciera que no hemos hecho nada, pero veamos que pasa ahora con el git log: "
   ]
  },
  {
   "cell_type": "code",
   "execution_count": 35,
   "id": "55d0d7eb",
   "metadata": {},
   "outputs": [
    {
     "name": "stdout",
     "output_type": "stream",
     "text": [
      "\u001b[33mcommit fc4774aec1da67ccde35dd874554a843c9b74c44\u001b[m\u001b[33m (\u001b[m\u001b[1;36mHEAD\u001b[m\u001b[33m, \u001b[m\u001b[1;33mtag: \u001b[m\u001b[1;33mgit_day_1\u001b[m\u001b[33m, \u001b[m\u001b[1;32mmain\u001b[m\u001b[33m)\u001b[m\r\n",
      "Author: Salvador <salvadorochoa.fcfm@ms.uas.edu.mx>\r\n",
      "Date:   Sun Mar 24 16:22:14 2024 -0700\r\n",
      "\r\n",
      "    se añadió el .gitignore\r\n",
      "\r\n",
      "\u001b[33mcommit a50e18f155b1205e7e2b18034dc9701151f8abcf\u001b[m\r\n",
      "Author: Salvador <salvadorochoa.fcfm@ms.uas.edu.mx>\r\n",
      "Date:   Fri Mar 22 14:37:47 2024 -0700\r\n",
      "\r\n",
      "    Se actualizó el texto del print\r\n",
      "\r\n",
      "\u001b[33mcommit b91bea0add536e1c9fff05f8ee2c29ec7d19ea30\u001b[m\r\n",
      "Author: Salvador <salvadorochoa.fcfm@ms.uas.edu.mx>\r\n",
      "Date:   Fri Mar 22 14:02:55 2024 -0700\r\n",
      "\r\n",
      "    Este es mi segundo commit\r\n",
      "\r\n",
      "\u001b[33mcommit 9b488fd7e1e5125b125a05ded52b440f0add7072\u001b[m\r\n",
      "Author: Salvador <salvadorochoa.fcfm@ms.uas.edu.mx>\r\n",
      "Date:   Fri Mar 22 13:41:38 2024 -0700\r\n",
      "\r\n",
      "    Hice mi primer commit\r\n"
     ]
    }
   ],
   "source": [
    "!git log "
   ]
  },
  {
   "cell_type": "markdown",
   "id": "eecd857d",
   "metadata": {},
   "source": [
    "Ahora este commit tiene un tag y algo importante es que **podemos agregarle tantas etiquetas como querramos.** \n",
    "\n",
    "Otra caracteristica de estos tag es que no cambian en el log, por ejemplo, vamos a guardar en un nuevo commit todos los archivos que nos faltan."
   ]
  },
  {
   "cell_type": "code",
   "execution_count": null,
   "id": "b302cddb",
   "metadata": {},
   "outputs": [],
   "source": [
    "# Ya que son muchos archivos, para no tener que ir uno por uno, podemos usar el . \n",
    "# el cual se encarga de tomar todos los archivos en el git add. \n",
    "!git status\n",
    "\n",
    "!echo \"---------------------------------------------\"\n",
    "\n",
    "# Agregamos todos los archivos \n",
    "!git add . \n",
    "\n",
    "!echo \"---------------------------------------------\"\n",
    "\n",
    "# Realizamos un commit \n",
    "!git commmit -m \"Gur\""
   ]
  },
  {
   "cell_type": "code",
   "execution_count": null,
   "id": "6c106964",
   "metadata": {},
   "outputs": [],
   "source": []
  }
 ],
 "metadata": {
  "kernelspec": {
   "display_name": "Python 3 (ipykernel)",
   "language": "python",
   "name": "python3"
  },
  "language_info": {
   "codemirror_mode": {
    "name": "ipython",
    "version": 3
   },
   "file_extension": ".py",
   "mimetype": "text/x-python",
   "name": "python",
   "nbconvert_exporter": "python",
   "pygments_lexer": "ipython3",
   "version": "3.9.12"
  }
 },
 "nbformat": 4,
 "nbformat_minor": 5
}
